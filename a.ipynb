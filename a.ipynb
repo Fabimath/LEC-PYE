
Skip to content
Pull requests
Issues
Marketplace
Explore
@Fabimath
Fabimath /
LEC-PYE

0
1

    3

Code
Issues
Pull requests
Actions
Projects
Wiki
Security
Insights

    Settings

LEC-PYE/Clases/Ejercicios_1.ipynb
Newer

Older
100644 104 lines (104 sloc) 2.62 KB
{
 "cells": [
  {
   "cell_type": "markdown",
   "metadata": {},
   "source": [
    "# Ejercicios Clase 1"
   ]
  },
  {
   "cell_type": "markdown",
   "metadata": {},
   "source": [
    "## Pregunta 1\n",
    "\n",
    "Identifique al Pokémon con la mayor cantidad de HP\n",
    "\n",
    "Puedes utilizar el siguiente código para apoyarte\n",
    "~~~\n",
    "subset(data,HP == max( #escribe aquí# ))\n",
    "~~~"
   ]
  },
  {
   "cell_type": "markdown",
   "metadata": {},
   "source": [
    "## Pregunta 2\n",
    "\n",
    "Identifica el Pokémon que tiene 5 puntos en `Speed` y es de segunda generación.\n",
    "\n",
    "Puedes utilizar el siguiente código para apoyarte\n",
    "~~~\n",
    "subset(data,#condición_1 & #condición_2)\n",
    "~~~"
   ]
  },
  {
   "cell_type": "markdown",
   "metadata": {},
   "source": [
    "## Pregunta 3\n",
    "\n",
    "Identifique el Pokémon de tipo planta puro (`Type.1 = Grass` y `Type.2 = ''`) con la defensa (`Defense`) mas baja.\n",
    "\n",
    "La respuesta que debes ingresar es el nombre del Pokémon todo en minúscula!\n",
    "\n",
    "Puedes utilizar el siguiente código para apoyarte\n",
    "\n",
    "~~~\n",
    "aux = subset(data,Type.1 == '#escribe aqui' & ...)\n",
    "subset(aux, Defense == '#escribe aqui')\n",
    "~~~"
   ]
  },
  {
   "cell_type": "markdown",
   "metadata": {},
   "source": [
    "# Soluciones\n",
    "Leemos la base de datos desde internet con las lineas de código vistas en clases:\n",
    "~~~\n",
    "pagina = 'https://raw.githubusercontent.com/Fabimath/LEC-PYE/master/Clases/pokemon.csv'\n",
    "x <- url(pagina, \"r\")\n",
    "x <- readLines(x)\n",
    "data = read.csv(text = x)\n",
    "~~~\n",
    "## Solución Pregunta 1\n",
    "La respuesta es `Blissey` y el código utilizado para obtener la respuesta es:\n",
    "~~~\n",
    "subset(data,HP == max(HP))\n",
    "~~~\n",
    "## Pregunta 2\n",
    "La respuesta es `Shuckle` y el código utilizado para obtener la respuesta es:\n",
    "~~~\n",
    "subset(data,Speed == 5 & Generation == 2)\n",
    "~~~\n",
    "## Pregunta 3\n",
    "La respuesta al problema es `Sunkern` y puedes obtener la respuesta mediante el siguiente código:\n",
    "~~~\n",
    "aux = subset(data,Type.1 == 'Grass' & Type.2 == '')\n",
    "subset(aux,Defense == min(Defense))\n",
    "~~~"
   ]
  }
 ],
 "metadata": {
  "kernelspec": {
   "display_name": "R",
   "language": "R",
   "name": "ir"
  },
  "language_info": {
   "codemirror_mode": "r",
   "file_extension": ".r",
   "mimetype": "text/x-r-source",
   "name": "R",
   "pygments_lexer": "r",
   "version": "4.0.2"
  }
 },
 "nbformat": 4,
 "nbformat_minor": 4
}

    © 2021 GitHub, Inc.
    Terms
    Privacy
    Security
    Status
    Docs

    Contact GitHub
    Pricing
    API
    Training
    Blog
    About

