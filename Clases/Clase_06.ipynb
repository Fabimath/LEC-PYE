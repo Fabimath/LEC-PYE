{
 "cells": [
  {
   "cell_type": "markdown",
   "metadata": {},
   "source": [
    "<img src=\"https://www.promocionachile.cl/img/logos/uai.JPG\" width=\"400\" alt=\"utfsm-logo\" align=\"left\"/>"
   ]
  },
  {
   "cell_type": "markdown",
   "metadata": {},
   "source": [
    "# LEC de Probabilidad y Estadística, Viña del mar.\n",
    "## Clase 06\n",
    "### Profesor: Fabián Ramírez\n",
    "\n",
    "# Objetivos:\n",
    "* Estimación e intervalos de confianza."
   ]
  },
  {
   "cell_type": "code",
   "execution_count": 1,
   "metadata": {},
   "outputs": [],
   "source": [
    "data = read.csv('data_clase_6.csv')"
   ]
  },
  {
   "cell_type": "code",
   "execution_count": 2,
   "metadata": {},
   "outputs": [
    {
     "data": {
      "text/html": [
       "<table class=\"dataframe\">\n",
       "<caption>A data.frame: 6 × 2</caption>\n",
       "<thead>\n",
       "\t<tr><th></th><th scope=col>X</th><th scope=col>peso</th></tr>\n",
       "\t<tr><th></th><th scope=col>&lt;int&gt;</th><th scope=col>&lt;dbl&gt;</th></tr>\n",
       "</thead>\n",
       "<tbody>\n",
       "\t<tr><th scope=row>1</th><td>1</td><td>11.236992</td></tr>\n",
       "\t<tr><th scope=row>2</th><td>2</td><td>13.092935</td></tr>\n",
       "\t<tr><th scope=row>3</th><td>3</td><td>14.770178</td></tr>\n",
       "\t<tr><th scope=row>4</th><td>4</td><td> 8.183457</td></tr>\n",
       "\t<tr><th scope=row>5</th><td>5</td><td>10.560417</td></tr>\n",
       "\t<tr><th scope=row>6</th><td>6</td><td>11.756075</td></tr>\n",
       "</tbody>\n",
       "</table>\n"
      ],
      "text/latex": [
       "A data.frame: 6 × 2\n",
       "\\begin{tabular}{r|ll}\n",
       "  & X & peso\\\\\n",
       "  & <int> & <dbl>\\\\\n",
       "\\hline\n",
       "\t1 & 1 & 11.236992\\\\\n",
       "\t2 & 2 & 13.092935\\\\\n",
       "\t3 & 3 & 14.770178\\\\\n",
       "\t4 & 4 &  8.183457\\\\\n",
       "\t5 & 5 & 10.560417\\\\\n",
       "\t6 & 6 & 11.756075\\\\\n",
       "\\end{tabular}\n"
      ],
      "text/markdown": [
       "\n",
       "A data.frame: 6 × 2\n",
       "\n",
       "| <!--/--> | X &lt;int&gt; | peso &lt;dbl&gt; |\n",
       "|---|---|---|\n",
       "| 1 | 1 | 11.236992 |\n",
       "| 2 | 2 | 13.092935 |\n",
       "| 3 | 3 | 14.770178 |\n",
       "| 4 | 4 |  8.183457 |\n",
       "| 5 | 5 | 10.560417 |\n",
       "| 6 | 6 | 11.756075 |\n",
       "\n"
      ],
      "text/plain": [
       "  X peso     \n",
       "1 1 11.236992\n",
       "2 2 13.092935\n",
       "3 3 14.770178\n",
       "4 4  8.183457\n",
       "5 5 10.560417\n",
       "6 6 11.756075"
      ]
     },
     "metadata": {},
     "output_type": "display_data"
    }
   ],
   "source": [
    "head(data)"
   ]
  },
  {
   "cell_type": "markdown",
   "metadata": {},
   "source": [
    "## Introducción a las distribuciones que nacen de la normal\n",
    "### Distribución Chi-Cuadrado\n",
    "\n",
    "Sea $X_i\\sim N(0,1)$,con $i=1,...,n$ independientes. Definamos:\n",
    "$$\n",
    "C = \\sum_{i=1}^n X_i ^2\n",
    "$$\n",
    "Entonces diremos que $C$ sigue una distribución chi-cuadrado con $n$ grados de libertad y lo anotaremos como $C \\sim \\chi^2(n)$.\n",
    "\n",
    "### Relación con la Gamma\n",
    "La distribución $\\chi^2$ es un caso especial de la distribución gamma. De hecho se tiene que:\n",
    "$$\n",
    "\\chi^2(n) =^d = \\Gamma \\left( \\dfrac{n}{2},\\dfrac{1}{2} \\right)\n",
    "$$\n",
    "\n",
    "### Aplicaciones\n",
    "**Importante:** Suponga que $X_i$ es una muestra aleatoria de tamaño $n$ que viene desde una distribución normal de parámetros $\\mu$ y $\\sigma^2$. Entonces se tiene que:\n",
    "$$\n",
    "\\bar{X} = \\dfrac{1}{n}\\sum_{i=1}^n X_i \\sim N\\left(\\mu,\\dfrac{\\sigma^2}{n}\\right)\n",
    "$$\n",
    "$$\n",
    "\\dfrac{(n-1)S^2}{\\sigma^2} = \\sum_{i=1}^n \\left(\\dfrac{X_i - \\bar{X}}{\\sigma}\\right)^2 \\sim \\chi^2 (n-1)\n",
    "$$\n",
    "Puedes ver una demostración en el siguiente link https://online.stat.psu.edu/stat414/node/174/\n",
    "\n",
    "### Simulaciones, probabilidades y cuantilies\n",
    "Al igual como vimos en las clases anteriores podemos simular datos que vienen desde esta distribución, al igual que calcular cuantilies y probabilidades"
   ]
  },
  {
   "cell_type": "code",
   "execution_count": 8,
   "metadata": {},
   "outputs": [
    {
     "data": {
      "text/html": [
       "0.649514787676639"
      ],
      "text/latex": [
       "0.649514787676639"
      ],
      "text/markdown": [
       "0.649514787676639"
      ],
      "text/plain": [
       "[1] 0.6495148"
      ]
     },
     "metadata": {},
     "output_type": "display_data"
    },
    {
     "data": {
      "text/html": [
       "10.0059962378522"
      ],
      "text/latex": [
       "10.0059962378522"
      ],
      "text/markdown": [
       "10.0059962378522"
      ],
      "text/plain": [
       "[1] 10.006"
      ]
     },
     "metadata": {},
     "output_type": "display_data"
    },
    {
     "data": {
      "image/png": "[encoded data removed]",
      "text/plain": [
       "Plot with title “Histogram of chi2”"
      ]
     },
     "metadata": {
      "image/png": {
       "height": 420,
       "width": 420
      }
     },
     "output_type": "display_data"
    }
   ],
   "source": [
    "set.seed(0)\n",
    "grados_de_libertad = 9\n",
    "chi2=rchisq(10000,grados_de_libertad)\n",
    "hist(chi2)\n",
    "pchisq(10,grados_de_libertad)\n",
    "qchisq(0.65,grados_de_libertad)"
   ]
  },
  {
   "cell_type": "markdown",
   "metadata": {},
   "source": [
    "### Distribución t-Student\n",
    "La distribución t de Student es la distribución de probabilidad del cociente\n",
    "$$\n",
    "    {\\displaystyle T={\\frac {Z}{\\sqrt {V/\\nu \\ }}}=Z{\\sqrt {\\frac {\\nu \\ }{V}}}} \n",
    "$$\n",
    "donde:\n",
    "*    Z es una variable aleatoria distribuida según una normal típica (de media nula y varianza 1).\n",
    "*    V es una variable continua que sigue una distribución $\\chi^2$ con ${\\displaystyle \\nu  }$ grados de libertad.\n",
    "*    Z y V son independientes\n",
    "Y anotaremos que $T \\sim t(\\nu)$.\n",
    "\n",
    "### Aplicaciones\n",
    "Sea $X_1,...,X_n$ una muestra aleatoria de tamaño $n$ desde una normal de parámetros $\\mu$ y $\\sigma^2$. Entonces se tiene que:\n",
    "$$\n",
    " \\dfrac{\\bar{X} - \\mu}{\\frac{S}{\\sqrt{n}}} \\sim t(n-1)\n",
    "$$\n",
    "**NOTA** La distribución $t$ es simetrica con respecto al 0.\n",
    "\n",
    "### Simulaciones, probabilidades y cuantiles\n",
    "Nota que para simular la distribución t y calcular probabilidades se debe hacer lo siguiente:"
   ]
  },
  {
   "cell_type": "code",
   "execution_count": 8,
   "metadata": {},
   "outputs": [
    {
     "data": {
      "image/png": "[encoded data removed]",
      "text/plain": [
       "Plot with title “Histogram of dat”"
      ]
     },
     "metadata": {
      "image/png": {
       "height": 420,
       "width": 420
      }
     },
     "output_type": "display_data"
    },
    {
     "data": {
      "text/html": [
       "0.159661361932211"
      ],
      "text/latex": [
       "0.159661361932211"
      ],
      "text/markdown": [
       "0.159661361932211"
      ],
      "text/plain": [
       "[1] 0.1596614"
      ]
     },
     "metadata": {},
     "output_type": "display_data"
    },
    {
     "data": {
      "text/html": [
       "-0.998595650662303"
      ],
      "text/latex": [
       "-0.998595650662303"
      ],
      "text/markdown": [
       "-0.998595650662303"
      ],
      "text/plain": [
       "[1] -0.9985957"
      ]
     },
     "metadata": {},
     "output_type": "display_data"
    },
    {
     "data": {
      "image/png": "[encoded data removed]",
      "text/plain": [
       "Plot with title “Histogram of rnorm(200)”"
      ]
     },
     "metadata": {
      "image/png": {
       "height": 420,
       "width": 420
      }
     },
     "output_type": "display_data"
    }
   ],
   "source": [
    "set.seed(0)\n",
    "fd = 120\n",
    "dat=rt(200,fd)\n",
    "hist(dat)\n",
    "hist(rnorm(200))\n",
    "pt(-1,fd)\n",
    "qt(0.16,fd)"
   ]
  },
  {
   "cell_type": "markdown",
   "metadata": {},
   "source": [
    "## Estimación de parámetros de una distribución normal\n",
    "Suponga que $X\\sim N(\\mu,\\sigma^2)$ entonces nos gustaría estimar cuanto vale $\\mu$. Para ello utilizaremos una aproximación de $\\mu$ la cual sera el promedio muestral $\\bar{X}$ de $n$ datos y anotaremos:\n",
    "$$\n",
    "\\hat{\\mu} = \\bar{X}\n",
    "$$\n",
    "Además tenemos que:\n",
    "$$\n",
    "\\hat{\\mu} \\sim N\\left( \\mu , \\dfrac{\\sigma^2}{n} \\right)\n",
    "$$\n",
    "Por otro lado también nos gustaría poder estimar $\\sigma^2$. Para ello aproximaremos $\\sigma^2$ mediante la varianza muestral $S^2$ con $n$ datos y anotaremos:\n",
    "$$\n",
    "\\hat{\\sigma^2} = S^2\n",
    "$$\n",
    "Además se cumple que:\n",
    "$$\n",
    "(n-1)\\dfrac{S^2}{\\sigma^2} \\sim \\chi^2 (n-1)\n",
    "$$\n",
    "y\n",
    "$$\n",
    "\\dfrac{ \\bar{X} - \\mu }{ \\frac{S}{\\sqrt{n}}} \\sim t(n-1)\n",
    "$$"
   ]
  },
  {
   "cell_type": "markdown",
   "metadata": {},
   "source": [
    "_De aquí nota que tanto $\\bar{X}$ y $S^2$ son variables aleatorias, por tanto es razonable hablar del concepto de probabilidad._"
   ]
  },
  {
   "cell_type": "markdown",
   "metadata": {},
   "source": [
    "## Intervalos de confianza para $\\mu$ y $\\sigma ^2$\n",
    "Supongamos la siguiente base de datos:"
   ]
  },
  {
   "cell_type": "code",
   "execution_count": 3,
   "metadata": {},
   "outputs": [],
   "source": [
    "data=read.csv('data_clase_6.csv')"
   ]
  },
  {
   "cell_type": "code",
   "execution_count": 2,
   "metadata": {},
   "outputs": [
    {
     "data": {
      "text/html": [
       "<table>\n",
       "<caption>A data.frame: 6 × 2</caption>\n",
       "<thead>\n",
       "\t<tr><th></th><th scope=col>X</th><th scope=col>peso</th></tr>\n",
       "\t<tr><th></th><th scope=col>&lt;int&gt;</th><th scope=col>&lt;dbl&gt;</th></tr>\n",
       "</thead>\n",
       "<tbody>\n",
       "\t<tr><th scope=row>1</th><td>1</td><td>11.236992</td></tr>\n",
       "\t<tr><th scope=row>2</th><td>2</td><td>13.092935</td></tr>\n",
       "\t<tr><th scope=row>3</th><td>3</td><td>14.770178</td></tr>\n",
       "\t<tr><th scope=row>4</th><td>4</td><td> 8.183457</td></tr>\n",
       "\t<tr><th scope=row>5</th><td>5</td><td>10.560417</td></tr>\n",
       "\t<tr><th scope=row>6</th><td>6</td><td>11.756075</td></tr>\n",
       "</tbody>\n",
       "</table>\n"
      ],
      "text/latex": [
       "A data.frame: 6 × 2\n",
       "\\begin{tabular}{r|ll}\n",
       "  & X & peso\\\\\n",
       "  & <int> & <dbl>\\\\\n",
       "\\hline\n",
       "\t1 & 1 & 11.236992\\\\\n",
       "\t2 & 2 & 13.092935\\\\\n",
       "\t3 & 3 & 14.770178\\\\\n",
       "\t4 & 4 &  8.183457\\\\\n",
       "\t5 & 5 & 10.560417\\\\\n",
       "\t6 & 6 & 11.756075\\\\\n",
       "\\end{tabular}\n"
      ],
      "text/markdown": [
       "\n",
       "A data.frame: 6 × 2\n",
       "\n",
       "| <!--/--> | X &lt;int&gt; | peso &lt;dbl&gt; |\n",
       "|---|---|---|\n",
       "| 1 | 1 | 11.236992 |\n",
       "| 2 | 2 | 13.092935 |\n",
       "| 3 | 3 | 14.770178 |\n",
       "| 4 | 4 |  8.183457 |\n",
       "| 5 | 5 | 10.560417 |\n",
       "| 6 | 6 | 11.756075 |\n",
       "\n"
      ],
      "text/plain": [
       "  X peso     \n",
       "1 1 11.236992\n",
       "2 2 13.092935\n",
       "3 3 14.770178\n",
       "4 4  8.183457\n",
       "5 5 10.560417\n",
       "6 6 11.756075"
      ]
     },
     "metadata": {},
     "output_type": "display_data"
    }
   ],
   "source": [
    "head(data)"
   ]
  },
  {
   "cell_type": "markdown",
   "metadata": {},
   "source": [
    "Me gustaría saber si es razonable pensar que la variable `peso` sigue una ley normal de parametros $\\mu$ y $\\sigma^2$ por estimar. Para ello notemos que:"
   ]
  },
  {
   "cell_type": "code",
   "execution_count": 3,
   "metadata": {},
   "outputs": [
    {
     "data": {
      "image/png": "[encoded data removed]",
      "text/plain": [
       "Plot with title \"Histogram of data$peso\""
      ]
     },
     "metadata": {
      "image/png": {
       "height": 420,
       "width": 420
      }
     },
     "output_type": "display_data"
    }
   ],
   "source": [
    "hist(data$peso)"
   ]
  },
  {
   "cell_type": "markdown",
   "metadata": {},
   "source": [
    "Esto nos muestra que es bastante razonable pensar que los datos siguen una ley normal, puesto que es casi simetrica, pero no sabria decidir si es normal o t de student por tanto verificare la curtosis y el coeficiente de asimetria."
   ]
  },
  {
   "cell_type": "code",
   "execution_count": 43,
   "metadata": {},
   "outputs": [],
   "source": [
    "library(moments)"
   ]
  },
  {
   "cell_type": "code",
   "execution_count": 44,
   "metadata": {},
   "outputs": [
    {
     "data": {
      "text/html": [
       "2.99967777126418"
      ],
      "text/latex": [
       "2.99967777126418"
      ],
      "text/markdown": [
       "2.99967777126418"
      ],
      "text/plain": [
       "[1] 2.999678"
      ]
     },
     "metadata": {},
     "output_type": "display_data"
    }
   ],
   "source": [
    "kurtosis(data$peso)"
   ]
  },
  {
   "cell_type": "code",
   "execution_count": 45,
   "metadata": {},
   "outputs": [
    {
     "data": {
      "text/html": [
       "-0.0248926490882429"
      ],
      "text/latex": [
       "-0.0248926490882429"
      ],
      "text/markdown": [
       "-0.0248926490882429"
      ],
      "text/plain": [
       "[1] -0.02489265"
      ]
     },
     "metadata": {},
     "output_type": "display_data"
    }
   ],
   "source": [
    "skewness(data$peso)"
   ]
  },
  {
   "cell_type": "markdown",
   "metadata": {},
   "source": [
    "Por tanto es razonable pensar que los datos son normales. Ahora bien necesito estimar los parámetros $\\mu$ y $\\sigma^2$ por tanto proponde los siguientes estimadores los cuales son los que vimos en esta clase:"
   ]
  },
  {
   "cell_type": "code",
   "execution_count": 46,
   "metadata": {},
   "outputs": [],
   "source": [
    "barX = mean(data$peso)\n",
    "S2 = var(data$peso)"
   ]
  },
  {
   "cell_type": "code",
   "execution_count": 48,
   "metadata": {},
   "outputs": [
    {
     "data": {
      "text/html": [
       "9.96604415313377"
      ],
      "text/latex": [
       "9.96604415313377"
      ],
      "text/markdown": [
       "9.96604415313377"
      ],
      "text/plain": [
       "[1] 9.966044"
      ]
     },
     "metadata": {},
     "output_type": "display_data"
    },
    {
     "data": {
      "text/html": [
       "15.7662582839039"
      ],
      "text/latex": [
       "15.7662582839039"
      ],
      "text/markdown": [
       "15.7662582839039"
      ],
      "text/plain": [
       "[1] 15.76626"
      ]
     },
     "metadata": {},
     "output_type": "display_data"
    }
   ],
   "source": [
    "barX\n",
    "S2"
   ]
  },
  {
   "cell_type": "markdown",
   "metadata": {},
   "source": [
    "Con eso obtenemos una estimación para la media y la varianza. Ahora nos lo que haremos sera construir un intervalo de confianza para la media y para la varianza."
   ]
  },
  {
   "cell_type": "markdown",
   "metadata": {},
   "source": [
    "**Formulario:**\n",
    "\n",
    "Cuando $\\mu$ es desconocido pero $\\sigma^2$ es conocido se tiene que:\n",
    "$$\n",
    "IC_{\\mu}: \\bar{X} \\pm \\left|Z\\left( \\dfrac{1-\\gamma}{2}\\right)\\right| \\dfrac{\\sigma}{\\sqrt{n}}\n",
    "$$\n",
    "Cuando tanto $\\mu$ como $\\sigma^2$ son desconocidos se tiene que:\n",
    "$$\n",
    "IC_{\\mu}: \\bar{X} \\pm \\left|t\\left( \\dfrac{1-\\gamma}{2} ; n-1 \\right)\\right| \\dfrac{S}{\\sqrt{n}}\n",
    "$$\n",
    "y\n",
    "$$\n",
    "IC_{\\sigma^2}: \\left[\\frac{(n-1) s^{2}}{\\chi^{2}\\left(\\frac{1-\\gamma}{2}+\\gamma \\right)} ; \\frac{(n-1) s^{2}}{\\chi^{2}\\left(\\frac{1-\\gamma}{2}\\right)}\\right]\n",
    "$$"
   ]
  },
  {
   "cell_type": "markdown",
   "metadata": {},
   "source": [
    "Donde $\\gamma$ es el nivel de confianza. "
   ]
  },
  {
   "cell_type": "markdown",
   "metadata": {},
   "source": [
    "### IC para $\\mu$ con $\\sigma^2$ desconocido con la base de datos.\n",
    "Procedemos a encontrar un IC para $\\mu$ y $\\sigma$ con una confianza $\\gamma$."
   ]
  },
  {
   "cell_type": "code",
   "execution_count": 74,
   "metadata": {},
   "outputs": [],
   "source": [
    "# defino\n",
    "n = length(data$peso)\n",
    "gamma = 0.95 #nivel de confianza"
   ]
  },
  {
   "cell_type": "code",
   "execution_count": 75,
   "metadata": {},
   "outputs": [],
   "source": [
    "     "
   ]
  },
  {
   "cell_type": "markdown",
   "metadata": {},
   "source": [
    "Por tanto el intervalo de confianza viene dado por"
   ]
  },
  {
   "cell_type": "code",
   "execution_count": 76,
   "metadata": {},
   "outputs": [
    {
     "data": {
      "text/html": [
       "'[ 9.88821093573586 ; 10.0438773705317 ]'"
      ],
      "text/latex": [
       "'{[} 9.88821093573586 ; 10.0438773705317 {]}'"
      ],
      "text/markdown": [
       "'[ 9.88821093573586 ; 10.0438773705317 ]'"
      ],
      "text/plain": [
       "[1] \"[ 9.88821093573586 ; 10.0438773705317 ]\""
      ]
     },
     "metadata": {},
     "output_type": "display_data"
    }
   ],
   "source": [
    "paste('[',LI_mu,';',LS_mu,']')"
   ]
  },
  {
   "cell_type": "markdown",
   "metadata": {},
   "source": [
    "Existe una función en R realiza el intervalo de confianza para la media cuando la varianza es desconocida."
   ]
  },
  {
   "cell_type": "code",
   "execution_count": 77,
   "metadata": {},
   "outputs": [
    {
     "data": {
      "text/plain": [
       "\n",
       "\tOne Sample t-test\n",
       "\n",
       "data:  data$peso\n",
       "t = 250.99, df = 9999, p-value < 2.2e-16\n",
       "alternative hypothesis: true mean is not equal to 0\n",
       "95 percent confidence interval:\n",
       "  9.888211 10.043877\n",
       "sample estimates:\n",
       "mean of x \n",
       " 9.966044 \n"
      ]
     },
     "metadata": {},
     "output_type": "display_data"
    }
   ],
   "source": [
    "t.test(data$peso,conf.level = 0.95)"
   ]
  },
  {
   "cell_type": "markdown",
   "metadata": {},
   "source": [
    "### IC para $\\sigma^2$ con la base de datos.\n"
   ]
  },
  {
   "cell_type": "code",
   "execution_count": 82,
   "metadata": {},
   "outputs": [],
   "source": [
    "LI_mu = (n-1)*S2 / qchisq( (1-gamma)/2 + gamma,n-1)\n",
    "LS_mu =  (n-1)*S2 / qchisq( (1-gamma)/2,n"
   ]
  },
  {
   "cell_type": "code",
   "execution_count": 83,
   "metadata": {},
   "outputs": [
    {
     "data": {
      "text/html": [
       "'[ 15.3381934938467 ; 16.2125830635943 ]'"
      ],
      "text/latex": [
       "'{[} 15.3381934938467 ; 16.2125830635943 {]}'"
      ],
      "text/markdown": [
       "'[ 15.3381934938467 ; 16.2125830635943 ]'"
      ],
      "text/plain": [
       "[1] \"[ 15.3381934938467 ; 16.2125830635943 ]\""
      ]
     },
     "metadata": {},
     "output_type": "display_data"
    }
   ],
   "source": [
    "paste('[',LI_mu,';',LS_mu,']')"
   ]
  },
  {
   "cell_type": "markdown",
   "metadata": {},
   "source": [
    "No existe una función en el R que te entrega directamente este IC"
   ]
  }
 ],
 "metadata": {
  "kernelspec": {
   "display_name": "R",
   "language": "R",
   "name": "ir"
  },
  "language_info": {
   "codemirror_mode": "r",
   "file_extension": ".r",
   "mimetype": "text/x-r-source",
   "name": "R",
   "pygments_lexer": "r",
   "version": "4.0.4"
  }
 },
 "nbformat": 4,
 "nbformat_minor": 4
}
