{
 "cells": [
  {
   "cell_type": "markdown",
   "metadata": {},
   "source": [
    "<img src=\"https://www.promocionachile.cl/img/logos/uai.JPG\" width=\"400\" alt=\"utfsm-logo\" align=\"left\"/>"
   ]
  },
  {
   "cell_type": "code",
   "execution_count": null,
   "metadata": {},
   "outputs": [],
   "source": []
  },
  {
   "cell_type": "markdown",
   "metadata": {},
   "source": [
    "# LEC de Probabilidad y Estadística, Viña del mar.\n",
    "## Clase 07\n",
    "### Profesor: Fabián Ramírez\n",
    "\n",
    "# Objetivos:\n",
    "* Intervalos de confianza para la proporción.\n",
    "* Pruebas de hipótesis."
   ]
  },
  {
   "cell_type": "markdown",
   "metadata": {},
   "source": [
    "### Resumen\n",
    "En la clase anterior vimos la creación de intervalos de confianza para los siguientes casos:"
   ]
  },
  {
   "cell_type": "markdown",
   "metadata": {},
   "source": [
    "* Para la media poblacional con varianza poblacional conocida.\n",
    "* Para la media poblacional con varianza poblacional desconocida.\n",
    "* Para la varianza con media poblacional desconocida."
   ]
  },
  {
   "cell_type": "markdown",
   "metadata": {},
   "source": [
    "Para el primer caso puedes realizar el intervalo de confianza con la función `z.test`"
   ]
  },
  {
   "cell_type": "code",
   "execution_count": 1,
   "metadata": {},
   "outputs": [],
   "source": [
    "x1 = rnorm(30)\n",
    "n  = length(x1)"
   ]
  },
  {
   "cell_type": "markdown",
   "metadata": {},
   "source": [
    "# TEST Z"
   ]
  },
  {
   "cell_type": "code",
   "execution_count": 4,
   "metadata": {},
   "outputs": [
    {
     "data": {
      "text/html": [
       "-1.27171493868063"
      ],
      "text/latex": [
       "-1.27171493868063"
      ],
      "text/markdown": [
       "-1.27171493868063"
      ],
      "text/plain": [
       "[1] -1.271715"
      ]
     },
     "metadata": {},
     "output_type": "display_data"
    },
    {
     "data": {
      "text/html": [
       "0.875318033779959"
      ],
      "text/latex": [
       "0.875318033779959"
      ],
      "text/markdown": [
       "0.875318033779959"
      ],
      "text/plain": [
       "[1] 0.875318"
      ]
     },
     "metadata": {},
     "output_type": "display_data"
    }
   ],
   "source": [
    "gamma = 0.95\n",
    "sigma = 3\n",
    "LS_mu = mean(x1) + (sigma/sqrt(n))*abs(qnorm((1-gamma)/2))\n",
    "LI_mu = mean(x1) - (sigma/sqrt(n))*abs(qnorm((1-gamma)/2))\n",
    "LI_mu\n",
    "LS_mu"
   ]
  },
  {
   "cell_type": "markdown",
   "metadata": {},
   "source": [
    "Para el segundo caso usaremos la función `t.test`"
   ]
  },
  {
   "cell_type": "code",
   "execution_count": 2,
   "metadata": {},
   "outputs": [],
   "source": [
    "x2 = rnorm(30,1,2)\n",
    "n = length(x2)"
   ]
  },
  {
   "cell_type": "code",
   "execution_count": 3,
   "metadata": {},
   "outputs": [
    {
     "data": {
      "text/html": [
       "<style>\n",
       ".list-inline {list-style: none; margin:0; padding: 0}\n",
       ".list-inline>li {display: inline-block}\n",
       ".list-inline>li:not(:last-child)::after {content: \"\\00b7\"; padding: 0 .5ex}\n",
       "</style>\n",
       "<ol class=list-inline><li>0.0801356348249125</li><li>0.724711340257034</li><li>5.02961917313119</li><li>0.222537195745255</li><li>2.08382948386302</li><li>0.450692960466376</li><li>1.88980878319368</li><li>-0.662534597537457</li><li>2.92923903045954</li><li>0.695767127817646</li><li>0.130661282958683</li><li>1.42542174240795</li><li>-1.38117806101904</li><li>2.00340253649507</li><li>4.60871110172546</li><li>-0.283128846760152</li><li>-0.740804920841836</li><li>1.28757771668578</li><li>3.21749845001727</li><li>-1.96859299483607</li><li>-3.71087388152475</li><li>2.97833222419919</li><li>1.17889222866885</li><li>6.7353451574104</li><li>3.56758121705098</li><li>-2.05539631821295</li><li>1.55232087195239</li><li>3.95197186448106</li><li>-1.58749501983351</li><li>3.6384197752051</li></ol>\n"
      ],
      "text/latex": [
       "\\begin{enumerate*}\n",
       "\\item 0.0801356348249125\n",
       "\\item 0.724711340257034\n",
       "\\item 5.02961917313119\n",
       "\\item 0.222537195745255\n",
       "\\item 2.08382948386302\n",
       "\\item 0.450692960466376\n",
       "\\item 1.88980878319368\n",
       "\\item -0.662534597537457\n",
       "\\item 2.92923903045954\n",
       "\\item 0.695767127817646\n",
       "\\item 0.130661282958683\n",
       "\\item 1.42542174240795\n",
       "\\item -1.38117806101904\n",
       "\\item 2.00340253649507\n",
       "\\item 4.60871110172546\n",
       "\\item -0.283128846760152\n",
       "\\item -0.740804920841836\n",
       "\\item 1.28757771668578\n",
       "\\item 3.21749845001727\n",
       "\\item -1.96859299483607\n",
       "\\item -3.71087388152475\n",
       "\\item 2.97833222419919\n",
       "\\item 1.17889222866885\n",
       "\\item 6.7353451574104\n",
       "\\item 3.56758121705098\n",
       "\\item -2.05539631821295\n",
       "\\item 1.55232087195239\n",
       "\\item 3.95197186448106\n",
       "\\item -1.58749501983351\n",
       "\\item 3.6384197752051\n",
       "\\end{enumerate*}\n"
      ],
      "text/markdown": [
       "1. 0.0801356348249125\n",
       "2. 0.724711340257034\n",
       "3. 5.02961917313119\n",
       "4. 0.222537195745255\n",
       "5. 2.08382948386302\n",
       "6. 0.450692960466376\n",
       "7. 1.88980878319368\n",
       "8. -0.662534597537457\n",
       "9. 2.92923903045954\n",
       "10. 0.695767127817646\n",
       "11. 0.130661282958683\n",
       "12. 1.42542174240795\n",
       "13. -1.38117806101904\n",
       "14. 2.00340253649507\n",
       "15. 4.60871110172546\n",
       "16. -0.283128846760152\n",
       "17. -0.740804920841836\n",
       "18. 1.28757771668578\n",
       "19. 3.21749845001727\n",
       "20. -1.96859299483607\n",
       "21. -3.71087388152475\n",
       "22. 2.97833222419919\n",
       "23. 1.17889222866885\n",
       "24. 6.7353451574104\n",
       "25. 3.56758121705098\n",
       "26. -2.05539631821295\n",
       "27. 1.55232087195239\n",
       "28. 3.95197186448106\n",
       "29. -1.58749501983351\n",
       "30. 3.6384197752051\n",
       "\n",
       "\n"
      ],
      "text/plain": [
       " [1]  0.08013563  0.72471134  5.02961917  0.22253720  2.08382948  0.45069296\n",
       " [7]  1.88980878 -0.66253460  2.92923903  0.69576713  0.13066128  1.42542174\n",
       "[13] -1.38117806  2.00340254  4.60871110 -0.28312885 -0.74080492  1.28757772\n",
       "[19]  3.21749845 -1.96859299 -3.71087388  2.97833222  1.17889223  6.73534516\n",
       "[25]  3.56758122 -2.05539632  1.55232087  3.95197186 -1.58749502  3.63841978"
      ]
     },
     "metadata": {},
     "output_type": "display_data"
    }
   ],
   "source": [
    "x2"
   ]
  },
  {
   "cell_type": "code",
   "execution_count": 4,
   "metadata": {},
   "outputs": [
    {
     "data": {
      "text/plain": [
       "\n",
       "\tOne Sample t-test\n",
       "\n",
       "data:  x2\n",
       "t = 2.9417, df = 29, p-value = 0.006357\n",
       "alternative hypothesis: true mean is not equal to 0\n",
       "95 percent confidence interval:\n",
       " 0.3859284 2.1469031\n",
       "sample estimates:\n",
       "mean of x \n",
       " 1.266416 \n"
      ]
     },
     "metadata": {},
     "output_type": "display_data"
    }
   ],
   "source": [
    "t.test(x=x2,conf.level=0.95)"
   ]
  },
  {
   "cell_type": "code",
   "execution_count": 5,
   "metadata": {},
   "outputs": [
    {
     "data": {
      "text/html": [
       "0.385928419292422"
      ],
      "text/latex": [
       "0.385928419292422"
      ],
      "text/markdown": [
       "0.385928419292422"
      ],
      "text/plain": [
       "[1] 0.3859284"
      ]
     },
     "metadata": {},
     "output_type": "display_data"
    },
    {
     "data": {
      "text/html": [
       "2.14690306460432"
      ],
      "text/latex": [
       "2.14690306460432"
      ],
      "text/markdown": [
       "2.14690306460432"
      ],
      "text/plain": [
       "[1] 2.146903"
      ]
     },
     "metadata": {},
     "output_type": "display_data"
    }
   ],
   "source": [
    "LS_mu = mean(x2) + abs(qt((1-0.95)/2,n-1))*sd(x2)/sqrt(n)\n",
    "LI_mu = mean(x2) - abs(qt((1-0.95)/2,n-1))*sd(x2)/sqrt(n)\n",
    "LI_mu\n",
    "LS_mu"
   ]
  },
  {
   "cell_type": "markdown",
   "metadata": {},
   "source": [
    "## Intervalos de confianza para una proporción\n",
    "Suponga que en una población se tienen 2 posibles elecciones, `x1` y `x2`. A ti te gustaría estudiar que proporción de la población prefiere `x1` en lugar de `x2`. Como tu no puedes preguntarle a toda la población su preferencia para sacar un porcentaje (en general la población se considera infinita), entonces tu decides seleccionar al azar una muestra aleatoria de tamaño $n$ y le preguntas su preferencia. Entonces para estimar la proporción mediante utilizaremos el estadístico:\n",
    "$$\n",
    "\\hat{p} = \\dfrac{\\text{Cantidad de personas que prefieren x1}}{\\text{Cantidad de personas de la muestra}}\n",
    "$$\n",
    "Luego me gustaría armar un IC para la proporción, para ello utilizaremos el siguiente resultado:\n",
    "\n",
    "**Intervalo de confianza para $\\hat{p}$** El intervalo de confianza para $\\hat{p}$ viene dado por:\n",
    "$$\n",
    "\\hat{p} \\pm \\left|Z\\left( \\dfrac{1-\\gamma}{2}\\right)\\right| \\sqrt{\n",
    "\\dfrac{ \\hat{p}(1-\\hat{p})}{n}\n",
    "}\n",
    "$$"
   ]
  },
  {
   "cell_type": "markdown",
   "metadata": {},
   "source": [
    "Tomemos el siguiente ejemplo:"
   ]
  },
  {
   "cell_type": "code",
   "execution_count": 5,
   "metadata": {},
   "outputs": [
    {
     "data": {
      "text/html": [
       "<style>\n",
       ".list-inline {list-style: none; margin:0; padding: 0}\n",
       ".list-inline>li {display: inline-block}\n",
       ".list-inline>li:not(:last-child)::after {content: \"\\00b7\"; padding: 0 .5ex}\n",
       "</style>\n",
       "<ol class=list-inline><li>0</li><li>0</li><li>1</li><li>0</li><li>0</li><li>0</li><li>1</li><li>0</li><li>0</li><li>1</li><li>0</li><li>0</li><li>1</li><li>1</li><li>1</li><li>0</li><li>1</li><li>0</li><li>1</li><li>1</li><li>1</li><li>0</li><li>1</li><li>0</li><li>0</li><li>0</li><li>1</li><li>0</li><li>1</li><li>0</li></ol>\n"
      ],
      "text/latex": [
       "\\begin{enumerate*}\n",
       "\\item 0\n",
       "\\item 0\n",
       "\\item 1\n",
       "\\item 0\n",
       "\\item 0\n",
       "\\item 0\n",
       "\\item 1\n",
       "\\item 0\n",
       "\\item 0\n",
       "\\item 1\n",
       "\\item 0\n",
       "\\item 0\n",
       "\\item 1\n",
       "\\item 1\n",
       "\\item 1\n",
       "\\item 0\n",
       "\\item 1\n",
       "\\item 0\n",
       "\\item 1\n",
       "\\item 1\n",
       "\\item 1\n",
       "\\item 0\n",
       "\\item 1\n",
       "\\item 0\n",
       "\\item 0\n",
       "\\item 0\n",
       "\\item 1\n",
       "\\item 0\n",
       "\\item 1\n",
       "\\item 0\n",
       "\\end{enumerate*}\n"
      ],
      "text/markdown": [
       "1. 0\n",
       "2. 0\n",
       "3. 1\n",
       "4. 0\n",
       "5. 0\n",
       "6. 0\n",
       "7. 1\n",
       "8. 0\n",
       "9. 0\n",
       "10. 1\n",
       "11. 0\n",
       "12. 0\n",
       "13. 1\n",
       "14. 1\n",
       "15. 1\n",
       "16. 0\n",
       "17. 1\n",
       "18. 0\n",
       "19. 1\n",
       "20. 1\n",
       "21. 1\n",
       "22. 0\n",
       "23. 1\n",
       "24. 0\n",
       "25. 0\n",
       "26. 0\n",
       "27. 1\n",
       "28. 0\n",
       "29. 1\n",
       "30. 0\n",
       "\n",
       "\n"
      ],
      "text/plain": [
       " [1] 0 0 1 0 0 0 1 0 0 1 0 0 1 1 1 0 1 0 1 1 1 0 1 0 0 0 1 0 1 0"
      ]
     },
     "metadata": {},
     "output_type": "display_data"
    }
   ],
   "source": [
    "x4=rbinom(30,1,0.3)\n",
    "x4"
   ]
  },
  {
   "cell_type": "code",
   "execution_count": 6,
   "metadata": {},
   "outputs": [
    {
     "data": {
      "text/html": [
       "13"
      ],
      "text/latex": [
       "13"
      ],
      "text/markdown": [
       "13"
      ],
      "text/plain": [
       "[1] 13"
      ]
     },
     "metadata": {},
     "output_type": "display_data"
    }
   ],
   "source": [
    "casos_fav=length(subset(x4,x4==1))\n",
    "n = length(x4)\n",
    "casos_fav"
   ]
  },
  {
   "cell_type": "code",
   "execution_count": 7,
   "metadata": {},
   "outputs": [
    {
     "data": {
      "text/html": [
       "0.433333333333333"
      ],
      "text/latex": [
       "0.433333333333333"
      ],
      "text/markdown": [
       "0.433333333333333"
      ],
      "text/plain": [
       "[1] 0.4333333"
      ]
     },
     "metadata": {},
     "output_type": "display_data"
    }
   ],
   "source": [
    "p = casos_fav/n\n",
    "p"
   ]
  },
  {
   "cell_type": "code",
   "execution_count": 8,
   "metadata": {},
   "outputs": [
    {
     "data": {
      "text/html": [
       "0.256011445714674"
      ],
      "text/latex": [
       "0.256011445714674"
      ],
      "text/markdown": [
       "0.256011445714674"
      ],
      "text/plain": [
       "[1] 0.2560114"
      ]
     },
     "metadata": {},
     "output_type": "display_data"
    },
    {
     "data": {
      "text/html": [
       "0.610655220951993"
      ],
      "text/latex": [
       "0.610655220951993"
      ],
      "text/markdown": [
       "0.610655220951993"
      ],
      "text/plain": [
       "[1] 0.6106552"
      ]
     },
     "metadata": {},
     "output_type": "display_data"
    }
   ],
   "source": [
    "LI = p - abs(qnorm((1-0.95)/2))*sqrt(p*(1-p)/n)\n",
    "LS = p + abs(qnorm((1-0.95)/2))*sqrt(p*(1-p)/n)\n",
    "LI\n",
    "LS"
   ]
  },
  {
   "cell_type": "code",
   "execution_count": 9,
   "metadata": {},
   "outputs": [
    {
     "data": {
      "text/plain": [
       "\n",
       "\tExact binomial test\n",
       "\n",
       "data:  casos_fav and n\n",
       "number of successes = 13, number of trials = 30, p-value = 1\n",
       "alternative hypothesis: true probability of success is not equal to 0.4333333\n",
       "95 percent confidence interval:\n",
       " 0.2546075 0.6257265\n",
       "sample estimates:\n",
       "probability of success \n",
       "             0.4333333 \n"
      ]
     },
     "metadata": {},
     "output_type": "display_data"
    }
   ],
   "source": [
    "binom.test(casos_fav,n,p)"
   ]
  },
  {
   "cell_type": "markdown",
   "metadata": {},
   "source": [
    "## Pruebas de hipotesis"
   ]
  },
  {
   "cell_type": "markdown",
   "metadata": {},
   "source": [
    "**Definición:** Se define la significancia como 1 - confianza. Entonces:\n",
    "$$\n",
    "\\alpha = 1-\\gamma\n",
    "$$\n",
    "con $\\alpha$ la significancia y $\\gamma$ la confianza."
   ]
  },
  {
   "cell_type": "markdown",
   "metadata": {},
   "source": [
    "### Construcción de un test de hipótesis.\n",
    "\n",
    "Supongamos tenemos una V.A. $X$ que sigue una distribución normal de parámetros $\\mu$ y $\\sigma^2$.\n",
    "\n",
    "En primer lugar supongamos que $\\sigma^2$ es conocido. Supongamos que una persona afirma rotundamente que $\\mu = \\mu_0$ con una confianza $\\gamma$ mientras que otra persona afirma que $\\mu > \\mu_0$. Para tomar una decisión con respecto a esta problematica se decide realizar un test de hipótesis:\n",
    "\\begin{align*}\n",
    "H_0: &\\mu = \\mu_0\\\\\n",
    "&v/s\\\\\n",
    "H_1: &\\mu > \\mu_0\n",
    "\\end{align*}\n",
    "\n",
    "Para tomar una decisión debemos hacer lo siguiente, calcularemos un $z$ de prueba que llamaremos $z^\\ast$, este viene dado por:\n",
    "$$\n",
    "z^\\ast = \\dfrac{\\bar{x} - \\mu_0}{\\frac{\\sigma}{\\sqrt{n}}}\n",
    "$$"
   ]
  },
  {
   "cell_type": "markdown",
   "metadata": {},
   "source": [
    "Si $z^\\ast$ > $Z\\left(1 - \\alpha \\right)$ entonces rechazo $H_0$, en caso contrario no rechazo $H_0$. **Nunca apruebo $H_0,H_1$**"
   ]
  },
  {
   "cell_type": "markdown",
   "metadata": {},
   "source": [
    "**Definición** Llamaremos valor p a la probabilidad de obtener un resultado extremo dado que $H_0$ es verdadero. La interpretación de este valor es que el valor p es la significancia mínima para rechazar $H_0$."
   ]
  },
  {
   "cell_type": "markdown",
   "metadata": {},
   "source": [
    "Se suele decir que valores altos de p no permiten rechazar la $H_0$, mientras que valores bajos de p si permiten rechazar la $H_0$. "
   ]
  },
  {
   "cell_type": "markdown",
   "metadata": {},
   "source": [
    "Para el test anterior (llamado test de media con cola derecha y varianza conocida), para obtener el valor p debemos utilizar el siguiente resultado:"
   ]
  },
  {
   "cell_type": "markdown",
   "metadata": {},
   "source": [
    "$$\n",
    "Valor.p = P( Z > z^\\ast)\n",
    "$$"
   ]
  },
  {
   "cell_type": "markdown",
   "metadata": {},
   "source": [
    "**Ejemplo**"
   ]
  },
  {
   "cell_type": "code",
   "execution_count": 6,
   "metadata": {},
   "outputs": [
    {
     "data": {
      "text/html": [
       "<style>\n",
       ".list-inline {list-style: none; margin:0; padding: 0}\n",
       ".list-inline>li {display: inline-block}\n",
       ".list-inline>li:not(:last-child)::after {content: \"\\00b7\"; padding: 0 .5ex}\n",
       "</style>\n",
       "<ol class=list-inline><li>12.1619962218943</li><li>10.3242588331379</li><li>10.4313898169318</li><li>10.6608173863977</li><li>8.21641322869307</li><li>12.3562880105815</li><li>9.66255882519087</li><li>11.9475716187517</li><li>13.3709634583029</li><li>9.04986514767269</li><li>8.78702364451539</li><li>10.8037709211886</li><li>8.53893510281407</li><li>11.9893681082115</li><li>8.28481626291246</li><li>11.8752782774242</li><li>8.33212827075322</li><li>8.60162847667481</li><li>9.36177897162316</li><li>8.35404114642176</li><li>9.60713385377321</li><li>10.7766883963852</li><li>11.0542218931883</li><li>10.1898787400577</li><li>9.78819148394548</li><li>12.3266538334033</li><li>9.37577456466929</li><li>11.180951694954</li><li>12.7655280968882</li><li>6.37761838501897</li><li>11.0737104502004</li><li>9.79718630616716</li><li>13.3990545377524</li><li>10.9850399978838</li><li>6.97204080762318</li><li>11.0983692387601</li><li>7.85442777206328</li><li>8.64534380771926</li><li>7.58748131210508</li><li>7.16121539198956</li><li>12.4176145782802</li><li>8.07931732318058</li><li>11.7950420908134</li><li>12.0532248416316</li><li>10.2760934232261</li><li>10.6026817573267</li><li>10.7216578575483</li><li>10.2639111034141</li><li>9.26383278433768</li><li>11.9747234051868</li><li>6.43234520242647</li><li>11.0367860092686</li><li>13.8403130212189</li><li>14.2540914190232</li><li>10.9529593625084</li><li>11.1680268202055</li><li>8.66956428370058</li><li>13.2465556454805</li><li>15.6159806332318</li><li>8.14151980101743</li><li>10.9771837312833</li><li>8.17994220746384</li><li>7.71136423044924</li><li>10.3050709374071</li><li>11.2873703732259</li><li>9.45720149058812</li><li>11.4589154747379</li><li>7.5333957962519</li><li>12.8614159715359</li><li>6.42232653865572</li><li>11.3061744482728</li><li>3.80977462320497</li><li>6.32284377401429</li><li>10.349410922912</li><li>10.8353114785067</li><li>9.32103832854681</li><li>14.5881358139971</li><li>9.08361694408559</li><li>9.46278241205954</li><li>12.9390578204656</li><li>8.44711858461233</li><li>11.5120285002504</li><li>12.1593540843075</li><li>8.35634507659476</li><li>10.5396681253339</li><li>10.2009169655147</li><li>9.2784735268345</li><li>5.57549094990977</li><li>11.1403384594876</li><li>12.1723567853227</li><li>10.2918517429291</li><li>7.24422558498256</li><li>7.88999317898225</li><li>6.32797110597011</li><li>7.33711327081223</li><li>10.7255192949915</li><li>9.36327630019402</li><li>12.9752828207491</li><li>6.05155098627809</li><li>7.59937846342601</li></ol>\n"
      ],
      "text/latex": [
       "\\begin{enumerate*}\n",
       "\\item 12.1619962218943\n",
       "\\item 10.3242588331379\n",
       "\\item 10.4313898169318\n",
       "\\item 10.6608173863977\n",
       "\\item 8.21641322869307\n",
       "\\item 12.3562880105815\n",
       "\\item 9.66255882519087\n",
       "\\item 11.9475716187517\n",
       "\\item 13.3709634583029\n",
       "\\item 9.04986514767269\n",
       "\\item 8.78702364451539\n",
       "\\item 10.8037709211886\n",
       "\\item 8.53893510281407\n",
       "\\item 11.9893681082115\n",
       "\\item 8.28481626291246\n",
       "\\item 11.8752782774242\n",
       "\\item 8.33212827075322\n",
       "\\item 8.60162847667481\n",
       "\\item 9.36177897162316\n",
       "\\item 8.35404114642176\n",
       "\\item 9.60713385377321\n",
       "\\item 10.7766883963852\n",
       "\\item 11.0542218931883\n",
       "\\item 10.1898787400577\n",
       "\\item 9.78819148394548\n",
       "\\item 12.3266538334033\n",
       "\\item 9.37577456466929\n",
       "\\item 11.180951694954\n",
       "\\item 12.7655280968882\n",
       "\\item 6.37761838501897\n",
       "\\item 11.0737104502004\n",
       "\\item 9.79718630616716\n",
       "\\item 13.3990545377524\n",
       "\\item 10.9850399978838\n",
       "\\item 6.97204080762318\n",
       "\\item 11.0983692387601\n",
       "\\item 7.85442777206328\n",
       "\\item 8.64534380771926\n",
       "\\item 7.58748131210508\n",
       "\\item 7.16121539198956\n",
       "\\item 12.4176145782802\n",
       "\\item 8.07931732318058\n",
       "\\item 11.7950420908134\n",
       "\\item 12.0532248416316\n",
       "\\item 10.2760934232261\n",
       "\\item 10.6026817573267\n",
       "\\item 10.7216578575483\n",
       "\\item 10.2639111034141\n",
       "\\item 9.26383278433768\n",
       "\\item 11.9747234051868\n",
       "\\item 6.43234520242647\n",
       "\\item 11.0367860092686\n",
       "\\item 13.8403130212189\n",
       "\\item 14.2540914190232\n",
       "\\item 10.9529593625084\n",
       "\\item 11.1680268202055\n",
       "\\item 8.66956428370058\n",
       "\\item 13.2465556454805\n",
       "\\item 15.6159806332318\n",
       "\\item 8.14151980101743\n",
       "\\item 10.9771837312833\n",
       "\\item 8.17994220746384\n",
       "\\item 7.71136423044924\n",
       "\\item 10.3050709374071\n",
       "\\item 11.2873703732259\n",
       "\\item 9.45720149058812\n",
       "\\item 11.4589154747379\n",
       "\\item 7.5333957962519\n",
       "\\item 12.8614159715359\n",
       "\\item 6.42232653865572\n",
       "\\item 11.3061744482728\n",
       "\\item 3.80977462320497\n",
       "\\item 6.32284377401429\n",
       "\\item 10.349410922912\n",
       "\\item 10.8353114785067\n",
       "\\item 9.32103832854681\n",
       "\\item 14.5881358139971\n",
       "\\item 9.08361694408559\n",
       "\\item 9.46278241205954\n",
       "\\item 12.9390578204656\n",
       "\\item 8.44711858461233\n",
       "\\item 11.5120285002504\n",
       "\\item 12.1593540843075\n",
       "\\item 8.35634507659476\n",
       "\\item 10.5396681253339\n",
       "\\item 10.2009169655147\n",
       "\\item 9.2784735268345\n",
       "\\item 5.57549094990977\n",
       "\\item 11.1403384594876\n",
       "\\item 12.1723567853227\n",
       "\\item 10.2918517429291\n",
       "\\item 7.24422558498256\n",
       "\\item 7.88999317898225\n",
       "\\item 6.32797110597011\n",
       "\\item 7.33711327081223\n",
       "\\item 10.7255192949915\n",
       "\\item 9.36327630019402\n",
       "\\item 12.9752828207491\n",
       "\\item 6.05155098627809\n",
       "\\item 7.59937846342601\n",
       "\\end{enumerate*}\n"
      ],
      "text/markdown": [
       "1. 12.1619962218943\n",
       "2. 10.3242588331379\n",
       "3. 10.4313898169318\n",
       "4. 10.6608173863977\n",
       "5. 8.21641322869307\n",
       "6. 12.3562880105815\n",
       "7. 9.66255882519087\n",
       "8. 11.9475716187517\n",
       "9. 13.3709634583029\n",
       "10. 9.04986514767269\n",
       "11. 8.78702364451539\n",
       "12. 10.8037709211886\n",
       "13. 8.53893510281407\n",
       "14. 11.9893681082115\n",
       "15. 8.28481626291246\n",
       "16. 11.8752782774242\n",
       "17. 8.33212827075322\n",
       "18. 8.60162847667481\n",
       "19. 9.36177897162316\n",
       "20. 8.35404114642176\n",
       "21. 9.60713385377321\n",
       "22. 10.7766883963852\n",
       "23. 11.0542218931883\n",
       "24. 10.1898787400577\n",
       "25. 9.78819148394548\n",
       "26. 12.3266538334033\n",
       "27. 9.37577456466929\n",
       "28. 11.180951694954\n",
       "29. 12.7655280968882\n",
       "30. 6.37761838501897\n",
       "31. 11.0737104502004\n",
       "32. 9.79718630616716\n",
       "33. 13.3990545377524\n",
       "34. 10.9850399978838\n",
       "35. 6.97204080762318\n",
       "36. 11.0983692387601\n",
       "37. 7.85442777206328\n",
       "38. 8.64534380771926\n",
       "39. 7.58748131210508\n",
       "40. 7.16121539198956\n",
       "41. 12.4176145782802\n",
       "42. 8.07931732318058\n",
       "43. 11.7950420908134\n",
       "44. 12.0532248416316\n",
       "45. 10.2760934232261\n",
       "46. 10.6026817573267\n",
       "47. 10.7216578575483\n",
       "48. 10.2639111034141\n",
       "49. 9.26383278433768\n",
       "50. 11.9747234051868\n",
       "51. 6.43234520242647\n",
       "52. 11.0367860092686\n",
       "53. 13.8403130212189\n",
       "54. 14.2540914190232\n",
       "55. 10.9529593625084\n",
       "56. 11.1680268202055\n",
       "57. 8.66956428370058\n",
       "58. 13.2465556454805\n",
       "59. 15.6159806332318\n",
       "60. 8.14151980101743\n",
       "61. 10.9771837312833\n",
       "62. 8.17994220746384\n",
       "63. 7.71136423044924\n",
       "64. 10.3050709374071\n",
       "65. 11.2873703732259\n",
       "66. 9.45720149058812\n",
       "67. 11.4589154747379\n",
       "68. 7.5333957962519\n",
       "69. 12.8614159715359\n",
       "70. 6.42232653865572\n",
       "71. 11.3061744482728\n",
       "72. 3.80977462320497\n",
       "73. 6.32284377401429\n",
       "74. 10.349410922912\n",
       "75. 10.8353114785067\n",
       "76. 9.32103832854681\n",
       "77. 14.5881358139971\n",
       "78. 9.08361694408559\n",
       "79. 9.46278241205954\n",
       "80. 12.9390578204656\n",
       "81. 8.44711858461233\n",
       "82. 11.5120285002504\n",
       "83. 12.1593540843075\n",
       "84. 8.35634507659476\n",
       "85. 10.5396681253339\n",
       "86. 10.2009169655147\n",
       "87. 9.2784735268345\n",
       "88. 5.57549094990977\n",
       "89. 11.1403384594876\n",
       "90. 12.1723567853227\n",
       "91. 10.2918517429291\n",
       "92. 7.24422558498256\n",
       "93. 7.88999317898225\n",
       "94. 6.32797110597011\n",
       "95. 7.33711327081223\n",
       "96. 10.7255192949915\n",
       "97. 9.36327630019402\n",
       "98. 12.9752828207491\n",
       "99. 6.05155098627809\n",
       "100. 7.59937846342601\n",
       "\n",
       "\n"
      ],
      "text/plain": [
       "  [1] 12.161996 10.324259 10.431390 10.660817  8.216413 12.356288  9.662559\n",
       "  [8] 11.947572 13.370963  9.049865  8.787024 10.803771  8.538935 11.989368\n",
       " [15]  8.284816 11.875278  8.332128  8.601628  9.361779  8.354041  9.607134\n",
       " [22] 10.776688 11.054222 10.189879  9.788191 12.326654  9.375775 11.180952\n",
       " [29] 12.765528  6.377618 11.073710  9.797186 13.399055 10.985040  6.972041\n",
       " [36] 11.098369  7.854428  8.645344  7.587481  7.161215 12.417615  8.079317\n",
       " [43] 11.795042 12.053225 10.276093 10.602682 10.721658 10.263911  9.263833\n",
       " [50] 11.974723  6.432345 11.036786 13.840313 14.254091 10.952959 11.168027\n",
       " [57]  8.669564 13.246556 15.615981  8.141520 10.977184  8.179942  7.711364\n",
       " [64] 10.305071 11.287370  9.457201 11.458915  7.533396 12.861416  6.422327\n",
       " [71] 11.306174  3.809775  6.322844 10.349411 10.835311  9.321038 14.588136\n",
       " [78]  9.083617  9.462782 12.939058  8.447119 11.512029 12.159354  8.356345\n",
       " [85] 10.539668 10.200917  9.278474  5.575491 11.140338 12.172357 10.291852\n",
       " [92]  7.244226  7.889993  6.327971  7.337113 10.725519  9.363276 12.975283\n",
       " [99]  6.051551  7.599378"
      ]
     },
     "metadata": {},
     "output_type": "display_data"
    }
   ],
   "source": [
    "x5 = rnorm(100,10,2)\n",
    "x5"
   ]
  },
  {
   "cell_type": "code",
   "execution_count": 7,
   "metadata": {},
   "outputs": [
    {
     "data": {
      "text/html": [
       "2.18940614864593"
      ],
      "text/latex": [
       "2.18940614864593"
      ],
      "text/markdown": [
       "2.18940614864593"
      ],
      "text/plain": [
       "[1] 2.189406"
      ]
     },
     "metadata": {},
     "output_type": "display_data"
    },
    {
     "data": {
      "text/html": [
       "10.0133423078282"
      ],
      "text/latex": [
       "10.0133423078282"
      ],
      "text/markdown": [
       "10.0133423078282"
      ],
      "text/plain": [
       "[1] 10.01334"
      ]
     },
     "metadata": {},
     "output_type": "display_data"
    }
   ],
   "source": [
    "sd(x5)\n",
    "mean(x5)"
   ]
  },
  {
   "cell_type": "code",
   "execution_count": 8,
   "metadata": {},
   "outputs": [
    {
     "data": {
      "text/html": [
       "5.06671153914078"
      ],
      "text/latex": [
       "5.06671153914078"
      ],
      "text/markdown": [
       "5.06671153914078"
      ],
      "text/plain": [
       "[1] 5.066712"
      ]
     },
     "metadata": {},
     "output_type": "display_data"
    }
   ],
   "source": [
    "# H_0: mu = 9\n",
    "# H_1: mu > 9\n",
    "# significancia 0.05\n",
    "alpha = 0.05\n",
    "z.ast = (mean(x5)-9)/(2/sqrt(length(x5)))\n",
    "z.ast"
   ]
  },
  {
   "cell_type": "code",
   "execution_count": 9,
   "metadata": {},
   "outputs": [
    {
     "data": {
      "text/html": [
       "1.64485362695147"
      ],
      "text/latex": [
       "1.64485362695147"
      ],
      "text/markdown": [
       "1.64485362695147"
      ],
      "text/plain": [
       "[1] 1.644854"
      ]
     },
     "metadata": {},
     "output_type": "display_data"
    }
   ],
   "source": [
    "Z = qnorm(1-alpha)\n",
    "Z"
   ]
  },
  {
   "cell_type": "code",
   "execution_count": 12,
   "metadata": {},
   "outputs": [
    {
     "data": {
      "text/html": [
       "TRUE"
      ],
      "text/latex": [
       "TRUE"
      ],
      "text/markdown": [
       "TRUE"
      ],
      "text/plain": [
       "[1] TRUE"
      ]
     },
     "metadata": {},
     "output_type": "display_data"
    }
   ],
   "source": [
    "z.ast > Z"
   ]
  },
  {
   "cell_type": "markdown",
   "metadata": {},
   "source": [
    "Por tanto rechazo $H_0$. Por tanto deberia pensar que $\\mu>9$."
   ]
  },
  {
   "cell_type": "code",
   "execution_count": 10,
   "metadata": {},
   "outputs": [
    {
     "data": {
      "text/html": [
       "0.066711539140778"
      ],
      "text/latex": [
       "0.066711539140778"
      ],
      "text/markdown": [
       "0.066711539140778"
      ],
      "text/plain": [
       "[1] 0.06671154"
      ]
     },
     "metadata": {},
     "output_type": "display_data"
    }
   ],
   "source": [
    "# H_0: mu = 10\n",
    "# H_1: mu > 10\n",
    "# significancia 0.05\n",
    "alpha = 0.05\n",
    "z.ast = (mean(x5)-10)/(2/sqrt(length(x5)))\n",
    "z.ast"
   ]
  },
  {
   "cell_type": "code",
   "execution_count": 11,
   "metadata": {},
   "outputs": [
    {
     "data": {
      "text/html": [
       "FALSE"
      ],
      "text/latex": [
       "FALSE"
      ],
      "text/markdown": [
       "FALSE"
      ],
      "text/plain": [
       "[1] FALSE"
      ]
     },
     "metadata": {},
     "output_type": "display_data"
    }
   ],
   "source": [
    "z.ast > Z"
   ]
  },
  {
   "cell_type": "markdown",
   "metadata": {},
   "source": [
    "Por tanto no rechazo $H_0$ y podria pensar que $\\mu = 10$."
   ]
  },
  {
   "cell_type": "markdown",
   "metadata": {},
   "source": [
    "Además el valor p para este test viene dado por:"
   ]
  },
  {
   "cell_type": "code",
   "execution_count": 35,
   "metadata": {},
   "outputs": [
    {
     "data": {
      "text/html": [
       "0.520340050276763"
      ],
      "text/latex": [
       "0.520340050276763"
      ],
      "text/markdown": [
       "0.520340050276763"
      ],
      "text/plain": [
       "[1] 0.5203401"
      ]
     },
     "metadata": {},
     "output_type": "display_data"
    }
   ],
   "source": [
    "1-pnorm(z.ast)"
   ]
  },
  {
   "cell_type": "markdown",
   "metadata": {},
   "source": [
    "Supongamos ahora que el amigo dijo otra alternativa que $\\mu < \\mu_0$ entonces el test toma la siguiente forma:\n",
    "\\begin{align*}\n",
    "H_0: &\\mu = \\mu_0\\\\\n",
    "&v/s\\\\\n",
    "H_1: &\\mu < \\mu_0\n",
    "\\end{align*}\n",
    "Para tomar una decisión utilizaremos el siguiente criterio:\n",
    "\n",
    "Si $z^\\ast$ < $Z\\left(\\alpha\\right)$ entonces rechazo $H_0$, en caso contrario no rechazo $H_0$. **Nunca apruebo $H_1$**"
   ]
  },
  {
   "cell_type": "markdown",
   "metadata": {},
   "source": [
    "Supongamos ahora que el amigo dijo otra alternativa que $\\mu < \\mu_0$ entonces el test toma la siguiente forma:\n",
    "\\begin{align*}\n",
    "H_0: &\\mu = \\mu_0\\\\\n",
    "&v/s\\\\\n",
    "H_1: &\\mu \\neq \\mu_0\n",
    "\\end{align*}\n",
    "Para tomar una decisión utilizaremos el siguiente criterio:\n",
    "\n",
    "Si $z^\\ast > Z\\left(1 - \\dfrac{\\alpha}{2}\\right)$ o bien $z^\\ast < Z\\left( \\dfrac{\\alpha}{2} \\right)$ entonces rechazo $H_0$, en caso contrario no rechazo $H_0$. **Nunca apruebo $H_0,H_1$**"
   ]
  },
  {
   "cell_type": "markdown",
   "metadata": {},
   "source": [
    "Supongamos ahora que la varianza no es conocida. Para estos casos debemos recordar que se puede armar una distribución $t$. Entonces en caso de hacer las mismas pruebas de hipótesis que mencionamos antes tendremos que usar la función `t.test`.\n",
    "\n",
    "$t^\\ast = \\dfrac{\\bar{x} - \\mu_0}{\\frac{S}{\\sqrt{n}}} $"
   ]
  },
  {
   "cell_type": "code",
   "execution_count": 12,
   "metadata": {},
   "outputs": [
    {
     "data": {
      "text/plain": [
       "\n",
       "\tOne Sample t-test\n",
       "\n",
       "data:  x5\n",
       "t = 0.06094, df = 99, p-value = 0.9515\n",
       "alternative hypothesis: true mean is not equal to 10\n",
       "95 percent confidence interval:\n",
       "  9.578917 10.447768\n",
       "sample estimates:\n",
       "mean of x \n",
       " 10.01334 \n"
      ]
     },
     "metadata": {},
     "output_type": "display_data"
    }
   ],
   "source": [
    "t.test(x=x5,alternative='two.sided',mu=10,conf.level=0.95)"
   ]
  },
  {
   "cell_type": "code",
   "execution_count": 44,
   "metadata": {},
   "outputs": [
    {
     "data": {
      "text/plain": [
       "\n",
       "\tOne Sample t-test\n",
       "\n",
       "data:  x5\n",
       "t = -4.845, df = 99, p-value = 2.344e-06\n",
       "alternative hypothesis: true mean is less than 11\n",
       "95 percent confidence interval:\n",
       "   -Inf 10.336\n",
       "sample estimates:\n",
       "mean of x \n",
       " 9.989799 \n"
      ]
     },
     "metadata": {},
     "output_type": "display_data"
    }
   ],
   "source": [
    "t.test(x=x5,alternative='less',mu=11,conf.level=0.95)"
   ]
  },
  {
   "cell_type": "code",
   "execution_count": 45,
   "metadata": {},
   "outputs": [
    {
     "data": {
      "text/plain": [
       "\n",
       "\tOne Sample t-test\n",
       "\n",
       "data:  x5\n",
       "t = -9.641, df = 99, p-value = 1\n",
       "alternative hypothesis: true mean is greater than 12\n",
       "95 percent confidence interval:\n",
       " 9.643599      Inf\n",
       "sample estimates:\n",
       "mean of x \n",
       " 9.989799 \n"
      ]
     },
     "metadata": {},
     "output_type": "display_data"
    }
   ],
   "source": [
    "t.test(x=x5,alternative='greater',mu=12,conf.level=0.95)"
   ]
  },
  {
   "cell_type": "markdown",
   "metadata": {},
   "source": [
    "Análisis de una base de datos."
   ]
  },
  {
   "cell_type": "code",
   "execution_count": 13,
   "metadata": {},
   "outputs": [],
   "source": [
    "data = read.csv('pokemon.csv')"
   ]
  },
  {
   "cell_type": "code",
   "execution_count": 14,
   "metadata": {},
   "outputs": [],
   "source": [
    "X=data$Attack"
   ]
  },
  {
   "cell_type": "code",
   "execution_count": 16,
   "metadata": {},
   "outputs": [
    {
     "data": {
      "text/plain": [
       "\n",
       "\tOne Sample t-test\n",
       "\n",
       "data:  X\n",
       "t = 2.6154, df = 799, p-value = 0.009081\n",
       "alternative hypothesis: true mean is not equal to 76\n",
       "99 percent confidence interval:\n",
       " 76.0383 81.9642\n",
       "sample estimates:\n",
       "mean of x \n",
       " 79.00125 \n"
      ]
     },
     "metadata": {},
     "output_type": "display_data"
    }
   ],
   "source": [
    "# H0: mu = 76\n",
    "# H1: mu =/ 76\n",
    "# alpha = 0.01\n",
    "t.test(x=X,alternative='two.sided',mu=76,conf.level=0.99)"
   ]
  }
 ],
 "metadata": {
  "kernelspec": {
   "display_name": "R",
   "language": "R",
   "name": "ir"
  },
  "language_info": {
   "codemirror_mode": "r",
   "file_extension": ".r",
   "mimetype": "text/x-r-source",
   "name": "R",
   "pygments_lexer": "r",
   "version": "4.0.4"
  }
 },
 "nbformat": 4,
 "nbformat_minor": 4
}
