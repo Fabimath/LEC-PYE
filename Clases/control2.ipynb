{
 "cells": [
  {
   "cell_type": "markdown",
   "metadata": {},
   "source": [
    "# Pregunta 1\n",
    "\n",
    "Sea N = 0\n",
    "\n",
    "Genere 100 datos desde una distribución normal de media 3 y varianza 2 desde una semilla igual a N. Sea M igual a la parte entera del promedio de los 100 los datos generados.\n",
    "\n",
    "Genere 200 datos desde una distribución poisson de parametro igual a M desde una semilla igual a N.\n",
    "\n",
    "Obtenga la desviación estandar de los 200 datos. Ingrese si respuesta con 2 decimales truncados."
   ]
  },
  {
   "cell_type": "markdown",
   "metadata": {},
   "source": [
    "# Pregunta 2\n",
    "\n",
    "Si  el  90%  de  todos  los  solicitantes  de  un  crédito  hipotecario  no  llenan  correctamente  el formulario de solicitud, ¿cuál es la probabilidad de que entre 15 solicitantes seleccionados al azar:"
   ]
  },
  {
   "cell_type": "markdown",
   "metadata": {},
   "source": [
    "## (a)\n",
    "Por lo menos 12 no llenen correctamente el formulario"
   ]
  },
  {
   "cell_type": "markdown",
   "metadata": {},
   "source": [
    "## (b)\n",
    "\n",
    "Entre 10 y 13 (ambos valores inclusive) no llenen correctamente el formulario?"
   ]
  },
  {
   "cell_type": "markdown",
   "metadata": {},
   "source": [
    "# Pregunta 3\n",
    "\n",
    "Considere una sucesión de numeros desde el 1 hasta el 200 de la siguiente forma:\n",
    "\n",
    "1,2,3,4,5,6,...,199,200.\n",
    "\n",
    "La puede generar con la función seq(1:200)\n",
    "\n",
    "## (a)\n",
    "\n",
    "obtenga un muestra aleatoria de tamaño 50 desde este conjunto de datos desde una semilla igual a 0\n",
    "\n",
    "## (b)\n",
    "\n",
    "Obtenga el percentil 45 de la muestra."
   ]
  }
 ],
 "metadata": {
  "kernelspec": {
   "display_name": "R",
   "language": "R",
   "name": "ir"
  },
  "language_info": {
   "codemirror_mode": "r",
   "file_extension": ".r",
   "mimetype": "text/x-r-source",
   "name": "R",
   "pygments_lexer": "r",
   "version": "4.0.4"
  }
 },
 "nbformat": 4,
 "nbformat_minor": 4
}
