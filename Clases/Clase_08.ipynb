{
 "cells": [
  {
   "cell_type": "markdown",
   "metadata": {},
   "source": [
    "<img src=\"https://www.promocionachile.cl/img/logos/uai.JPG\" width=\"400\" alt=\"utfsm-logo\" align=\"left\"/>"
   ]
  },
  {
   "cell_type": "markdown",
   "metadata": {},
   "source": [
    "# LEC de Probabilidad y Estadística, Viña del mar.\n",
    "## Clase 08\n",
    "### Profesor: Fabián Ramírez\n",
    "\n",
    "# Objetivos:\n",
    "* Intoducir Teoricamente un modelo de regresión simple.\n",
    "* Intervalos de confianza y test de hipótesis para un modelo de regresión."
   ]
  },
  {
   "cell_type": "code",
   "execution_count": 1,
   "metadata": {},
   "outputs": [],
   "source": [
    "# Generar datos\n",
    "set.seed(0)\n",
    "x = rweibull(100,2)\n",
    "y = 4*rep(1,100)+5*x + rnorm(100,0,1)\n",
    "data=data.frame(x,y)"
   ]
  },
  {
   "cell_type": "code",
   "execution_count": 2,
   "metadata": {},
   "outputs": [
    {
     "data": {
      "image/png": "[encoded data removed]",
      "text/plain": [
       "plot without title"
      ]
     },
     "metadata": {
      "image/png": {
       "height": 420,
       "width": 420
      }
     },
     "output_type": "display_data"
    }
   ],
   "source": [
    "plot(data)"
   ]
  },
  {
   "cell_type": "markdown",
   "metadata": {},
   "source": [
    "Nota que existe una tendencia."
   ]
  },
  {
   "cell_type": "code",
   "execution_count": 24,
   "metadata": {},
   "outputs": [
    {
     "data": {
      "text/html": [
       "0.91873656848714"
      ],
      "text/latex": [
       "0.91873656848714"
      ],
      "text/markdown": [
       "0.91873656848714"
      ],
      "text/plain": [
       "[1] 0.9187366"
      ]
     },
     "metadata": {},
     "output_type": "display_data"
    }
   ],
   "source": [
    "cor(x,y)"
   ]
  },
  {
   "cell_type": "markdown",
   "metadata": {},
   "source": [
    "Nota que existe correlación"
   ]
  },
  {
   "cell_type": "code",
   "execution_count": 22,
   "metadata": {},
   "outputs": [
    {
     "data": {
      "image/png": "[encoded data removed]",
      "text/plain": [
       "plot without title"
      ]
     },
     "metadata": {
      "image/png": {
       "height": 420,
       "width": 420
      }
     },
     "output_type": "display_data"
    }
   ],
   "source": [
    "#data\n",
    "# yi = b0 + b1*xi + error\n",
    "reg=lm(y~x,data)\n",
    "# Cuanto vale aproximadamente y si el x vale 1\n",
    "pred_x = reg$coef[1] + reg$coef[2]*1\n",
    "plot(x,y)\n",
    "points(1,pred_x,col='red')\n",
    "abline(reg,col='blue')"
   ]
  },
  {
   "cell_type": "code",
   "execution_count": 24,
   "metadata": {},
   "outputs": [
    {
     "data": {
      "text/html": [
       "<table>\n",
       "<caption>A matrix: 2 × 2 of type dbl</caption>\n",
       "<thead>\n",
       "\t<tr><th></th><th scope=col>0.5 %</th><th scope=col>99.5 %</th></tr>\n",
       "</thead>\n",
       "<tbody>\n",
       "\t<tr><th scope=row>(Intercept)</th><td>3.288916</td><td>4.374250</td></tr>\n",
       "\t<tr><th scope=row>x</th><td>4.507082</td><td>5.667506</td></tr>\n",
       "</tbody>\n",
       "</table>\n"
      ],
      "text/latex": [
       "A matrix: 2 × 2 of type dbl\n",
       "\\begin{tabular}{r|ll}\n",
       "  & 0.5 \\% & 99.5 \\%\\\\\n",
       "\\hline\n",
       "\t(Intercept) & 3.288916 & 4.374250\\\\\n",
       "\tx & 4.507082 & 5.667506\\\\\n",
       "\\end{tabular}\n"
      ],
      "text/markdown": [
       "\n",
       "A matrix: 2 × 2 of type dbl\n",
       "\n",
       "| <!--/--> | 0.5 % | 99.5 % |\n",
       "|---|---|---|\n",
       "| (Intercept) | 3.288916 | 4.374250 |\n",
       "| x | 4.507082 | 5.667506 |\n",
       "\n"
      ],
      "text/plain": [
       "            0.5 %    99.5 %  \n",
       "(Intercept) 3.288916 4.374250\n",
       "x           4.507082 5.667506"
      ]
     },
     "metadata": {},
     "output_type": "display_data"
    }
   ],
   "source": [
    "confint(reg,level=0.99)"
   ]
  },
  {
   "cell_type": "code",
   "execution_count": 27,
   "metadata": {},
   "outputs": [
    {
     "data": {
      "text/plain": [
       "\n",
       "Call:\n",
       "lm(formula = y ~ x)\n",
       "\n",
       "Residuals:\n",
       "     Min       1Q   Median       3Q      Max \n",
       "-2.11167 -0.74662  0.03271  0.56906  2.52299 \n",
       "\n",
       "Coefficients:\n",
       "            Estimate Std. Error t value Pr(>|t|)    \n",
       "(Intercept)   3.8316     0.2066   18.55   <2e-16 ***\n",
       "x             5.0873     0.2209   23.03   <2e-16 ***\n",
       "---\n",
       "Signif. codes:  0 '***' 0.001 '**' 0.01 '*' 0.05 '.' 0.1 ' ' 1\n",
       "\n",
       "Residual standard error: 0.8903 on 98 degrees of freedom\n",
       "Multiple R-squared:  0.8441,\tAdjusted R-squared:  0.8425 \n",
       "F-statistic: 530.5 on 1 and 98 DF,  p-value: < 2.2e-16\n"
      ]
     },
     "metadata": {},
     "output_type": "display_data"
    }
   ],
   "source": [
    "summary(reg)"
   ]
  },
  {
   "cell_type": "code",
   "execution_count": 25,
   "metadata": {},
   "outputs": [
    {
     "data": {
      "text/html": [
       "0.844076882275526"
      ],
      "text/latex": [
       "0.844076882275526"
      ],
      "text/markdown": [
       "0.844076882275526"
      ],
      "text/plain": [
       "[1] 0.8440769"
      ]
     },
     "metadata": {},
     "output_type": "display_data"
    }
   ],
   "source": [
    "cor(x,y)^2"
   ]
  },
  {
   "cell_type": "code",
   "execution_count": 51,
   "metadata": {},
   "outputs": [],
   "source": [
    "set.seed(0)\n",
    "t = seq(1,60)\n",
    "T = 5*exp(-0.07*t) + rnorm(60,0,0.1)"
   ]
  },
  {
   "cell_type": "code",
   "execution_count": 54,
   "metadata": {},
   "outputs": [
    {
     "data": {
      "text/plain": [
       "\n",
       "Call:\n",
       "lm(formula = T ~ t)\n",
       "\n",
       "Residuals:\n",
       "    Min      1Q  Median      3Q     Max \n",
       "-0.6986 -0.4987 -0.1348  0.3378  1.7885 \n",
       "\n",
       "Coefficients:\n",
       "             Estimate Std. Error t value Pr(>|t|)    \n",
       "(Intercept)  3.063115   0.151960   20.16   <2e-16 ***\n",
       "t           -0.063319   0.004333  -14.62   <2e-16 ***\n",
       "---\n",
       "Signif. codes:  0 '***' 0.001 '**' 0.01 '*' 0.05 '.' 0.1 ' ' 1\n",
       "\n",
       "Residual standard error: 0.5812 on 58 degrees of freedom\n",
       "Multiple R-squared:  0.7864,\tAdjusted R-squared:  0.7828 \n",
       "F-statistic: 213.6 on 1 and 58 DF,  p-value: < 2.2e-16\n"
      ]
     },
     "metadata": {},
     "output_type": "display_data"
    },
    {
     "data": {
      "image/png": "[encoded data removed]",
      "text/plain": [
       "plot without title"
      ]
     },
     "metadata": {
      "image/png": {
       "height": 420,
       "width": 420
      }
     },
     "output_type": "display_data"
    }
   ],
   "source": [
    "plot(t,T)\n",
    "reg1=lm(T~t)\n",
    "abline(reg1)\n",
    "summary(reg1)"
   ]
  },
  {
   "cell_type": "code",
   "execution_count": 64,
   "metadata": {},
   "outputs": [
    {
     "name": "stderr",
     "output_type": "stream",
     "text": [
      "Warning message in log(T):\n",
      "\"Se han producido NaNs\"\n"
     ]
    },
    {
     "data": {
      "text/plain": [
       "\n",
       "Call:\n",
       "lm(formula = y ~ x)\n",
       "\n",
       "Residuals:\n",
       "     Min       1Q   Median       3Q      Max \n",
       "-1.75362 -0.06323 -0.00203  0.09021  1.18589 \n",
       "\n",
       "Coefficients:\n",
       "             Estimate Std. Error t value Pr(>|t|)    \n",
       "(Intercept)  1.635217   0.106307   15.38   <2e-16 ***\n",
       "x           -0.072166   0.003134  -23.03   <2e-16 ***\n",
       "---\n",
       "Signif. codes:  0 '***' 0.001 '**' 0.01 '*' 0.05 '.' 0.1 ' ' 1\n",
       "\n",
       "Residual standard error: 0.3996 on 56 degrees of freedom\n",
       "  (2 observations deleted due to missingness)\n",
       "Multiple R-squared:  0.9045,\tAdjusted R-squared:  0.9028 \n",
       "F-statistic: 530.2 on 1 and 56 DF,  p-value: < 2.2e-16\n"
      ]
     },
     "metadata": {},
     "output_type": "display_data"
    },
    {
     "data": {
      "image/png": "[encoded data removed]",
      "text/plain": [
       "plot without title"
      ]
     },
     "metadata": {
      "image/png": {
       "height": 420,
       "width": 420
      }
     },
     "output_type": "display_data"
    }
   ],
   "source": [
    "plot(t,T)\n",
    "# T = A*exp(-Kt)\n",
    "# log(T) = Log(A) - Kt\n",
    "# Y = log(T), b0 = Log(A), b1 = -K, t=X\n",
    "x = t\n",
    "y = log(T)\n",
    "reg2=lm(y~x)\n",
    "summary(reg2)\n",
    "b0 = reg2$coef[1]\n",
    "b1 = reg2$coef[2]\n",
    "A = exp(b0)\n",
    "k = -b1\n",
    "pp = seq(1,60,by=0.1)\n",
    "pred = A*exp(-k*pp)\n",
    "points(pp,pred,col='red')"
   ]
  },
  {
   "cell_type": "code",
   "execution_count": 62,
   "metadata": {},
   "outputs": [
    {
     "data": {
      "text/html": [
       "\n",
       "<table width=\"100%\" summary=\"page for seq {base}\"><tr><td>seq {base}</td><td style=\"text-align: right;\">R Documentation</td></tr></table>\n",
       "\n",
       "<h2>Sequence Generation</h2>\n",
       "\n",
       "<h3>Description</h3>\n",
       "\n",
       "<p>Generate regular sequences.  <code>seq</code> is a standard generic with a\n",
       "default method.  <code>seq.int</code> is a primitive which can be\n",
       "much faster but has a few restrictions.  <code>seq_along</code> and\n",
       "<code>seq_len</code> are very fast primitives for two common cases.\n",
       "</p>\n",
       "\n",
       "\n",
       "<h3>Usage</h3>\n",
       "\n",
       "<pre>\n",
       "seq(...)\n",
       "\n",
       "## Default S3 method:\n",
       "seq(from = 1, to = 1, by = ((to - from)/(length.out - 1)),\n",
       "    length.out = NULL, along.with = NULL, ...)\n",
       "\n",
       "seq.int(from, to, by, length.out, along.with, ...)\n",
       "\n",
       "seq_along(along.with)\n",
       "seq_len(length.out)\n",
       "</pre>\n",
       "\n",
       "\n",
       "<h3>Arguments</h3>\n",
       "\n",
       "<table summary=\"R argblock\">\n",
       "<tr valign=\"top\"><td><code>...</code></td>\n",
       "<td>\n",
       "<p>arguments passed to or from methods.</p>\n",
       "</td></tr>\n",
       "<tr valign=\"top\"><td><code>from, to</code></td>\n",
       "<td>\n",
       "<p>the starting and (maximal) end values of the\n",
       "sequence.  Of length <code>1</code> unless just <code>from</code> is supplied as\n",
       "an unnamed argument.</p>\n",
       "</td></tr>\n",
       "<tr valign=\"top\"><td><code>by</code></td>\n",
       "<td>\n",
       "<p>number: increment of the sequence.</p>\n",
       "</td></tr>\n",
       "<tr valign=\"top\"><td><code>length.out</code></td>\n",
       "<td>\n",
       "<p>desired length of the sequence.  A\n",
       "non-negative number, which for <code>seq</code> and <code>seq.int</code> will be\n",
       "rounded up if fractional.</p>\n",
       "</td></tr>\n",
       "<tr valign=\"top\"><td><code>along.with</code></td>\n",
       "<td>\n",
       "<p>take the length from the length of this argument.</p>\n",
       "</td></tr>\n",
       "</table>\n",
       "\n",
       "\n",
       "<h3>Details</h3>\n",
       "\n",
       "<p>Numerical inputs should all be finite (that is, not infinite,\n",
       "<code>NaN</code> or <code>NA</code>).\n",
       "</p>\n",
       "<p>The interpretation of the unnamed arguments of <code>seq</code> and\n",
       "<code>seq.int</code> is <em>not</em> standard, and it is recommended always to\n",
       "name the arguments when programming.\n",
       "</p>\n",
       "<p><code>seq</code> is  generic, and only the default method is described here.\n",
       "Note that it dispatches on the class of the <strong>first</strong> argument\n",
       "irrespective of argument names.  This can have unintended consequences\n",
       "if it is called with just one argument intending this to be taken as\n",
       "<code>along.with</code>: it is much better to use <code>seq_along</code> in that\n",
       "case.\n",
       "</p>\n",
       "<p><code>seq.int</code> is an internal generic which dispatches on\n",
       "methods for <code>\"seq\"</code> based on the class of the first supplied\n",
       "argument (before argument matching).\n",
       "</p>\n",
       "<p>Typical usages are\n",
       "</p>\n",
       "<pre>seq(from, to)\n",
       "seq(from, to, by= )\n",
       "seq(from, to, length.out= )\n",
       "seq(along.with= )\n",
       "seq(from)\n",
       "seq(length.out= )\n",
       "</pre>\n",
       "<p>The first form generates the sequence <code>from, from+/-1, ..., to</code>\n",
       "(identical to <code>from:to</code>).\n",
       "</p>\n",
       "<p>The second form generates <code>from, from+by</code>, ..., up to the\n",
       "sequence value less than or equal to <code>to</code>.  Specifying <code>to -\n",
       "  from</code> and <code>by</code> of opposite signs is an error.  Note that the\n",
       "computed final value can go just beyond <code>to</code> to allow for\n",
       "rounding error, but is truncated to <code>to</code>.  (&lsquo;Just beyond&rsquo;\n",
       "is by up to <i>1e-10</i> times <code>abs(from - to)</code>.)\n",
       "</p>\n",
       "<p>The third generates a sequence of <code>length.out</code> equally spaced\n",
       "values from <code>from</code> to <code>to</code>.  (<code>length.out</code> is usually\n",
       "abbreviated to <code>length</code> or <code>len</code>, and <code>seq_len</code> is much\n",
       "faster.)\n",
       "</p>\n",
       "<p>The fourth form generates the integer sequence <code>1, 2, ...,\n",
       "    length(along.with)</code>.  (<code>along.with</code> is usually abbreviated to\n",
       "<code>along</code>, and <code>seq_along</code> is much faster.)\n",
       "</p>\n",
       "<p>The fifth form generates the sequence <code>1, 2, ..., length(from)</code>\n",
       "(as if argument <code>along.with</code> had been specified), <em>unless</em>\n",
       "the argument is numeric of length 1 when it is interpreted as\n",
       "<code>1:from</code> (even for <code>seq(0)</code> for compatibility with S).\n",
       "Using either <code>seq_along</code> or <code>seq_len</code> is much preferred\n",
       "(unless strict S compatibility is essential).\n",
       "</p>\n",
       "<p>The final form generates the integer sequence <code>1, 2, ...,\n",
       "  length.out</code> unless <code>length.out = 0</code>, when it generates\n",
       "<code>integer(0)</code>.\n",
       "</p>\n",
       "<p>Very small sequences (with <code>from - to</code> of the order of <i>10^{-14}</i>\n",
       "times the larger of the ends) will return <code>from</code>.\n",
       "</p>\n",
       "<p>For <code>seq</code> (only), up to two of <code>from</code>, <code>to</code> and\n",
       "<code>by</code> can be supplied as complex values provided <code>length.out</code>\n",
       "or <code>along.with</code> is specified.  More generally, the default method\n",
       "of <code>seq</code> will handle classed objects with methods for\n",
       "the <code>Math</code>, <code>Ops</code> and <code>Summary</code> group generics.\n",
       "</p>\n",
       "<p><code>seq.int</code>, <code>seq_along</code> and <code>seq_len</code> are\n",
       "primitive.\n",
       "</p>\n",
       "\n",
       "\n",
       "<h3>Value</h3>\n",
       "\n",
       "<p><code>seq.int</code> and the default method of <code>seq</code> for numeric\n",
       "arguments return a vector of type <code>\"integer\"</code> or <code>\"double\"</code>:\n",
       "programmers should not rely on which.\n",
       "</p>\n",
       "<p><code>seq_along</code> and <code>seq_len</code> return an integer vector, unless\n",
       "it is a <em>long vector</em> when it will be double.\n",
       "</p>\n",
       "\n",
       "\n",
       "<h3>References</h3>\n",
       "\n",
       "<p>Becker, R. A., Chambers, J. M. and Wilks, A. R. (1988)\n",
       "<em>The New S Language</em>.\n",
       "Wadsworth &amp; Brooks/Cole.\n",
       "</p>\n",
       "\n",
       "\n",
       "<h3>See Also</h3>\n",
       "\n",
       "<p>The methods <code>seq.Date</code> and <code>seq.POSIXt</code>.\n",
       "</p>\n",
       "<p><code>:</code>,\n",
       "<code>rep</code>,\n",
       "<code>sequence</code>,\n",
       "<code>row</code>,\n",
       "<code>col</code>.\n",
       "</p>\n",
       "\n",
       "\n",
       "<h3>Examples</h3>\n",
       "\n",
       "<pre>\n",
       "seq(0, 1, length.out = 11)\n",
       "seq(stats::rnorm(20)) # effectively 'along'\n",
       "seq(1, 9, by = 2)     # matches 'end'\n",
       "seq(1, 9, by = pi)    # stays below 'end'\n",
       "seq(1, 6, by = 3)\n",
       "seq(1.575, 5.125, by = 0.05)\n",
       "seq(17) # same as 1:17, or even better seq_len(17)\n",
       "</pre>\n",
       "\n",
       "<hr /><div style=\"text-align: center;\">[Package <em>base</em> version 3.6.1 ]</div>"
      ],
      "text/latex": [
       "\\inputencoding{utf8}\n",
       "\\HeaderA{seq}{Sequence Generation}{seq}\n",
       "\\methaliasA{seq.default}{seq}{seq.default}\n",
       "\\methaliasA{seq.int}{seq}{seq.int}\n",
       "\\aliasA{seq\\_along}{seq}{seq.Rul.along}\n",
       "\\aliasA{seq\\_len}{seq}{seq.Rul.len}\n",
       "\\keyword{manip}{seq}\n",
       "%\n",
       "\\begin{Description}\\relax\n",
       "Generate regular sequences.  \\code{seq} is a standard generic with a\n",
       "default method.  \\code{seq.int} is a primitive which can be\n",
       "much faster but has a few restrictions.  \\code{seq\\_along} and\n",
       "\\code{seq\\_len} are very fast primitives for two common cases.\n",
       "\\end{Description}\n",
       "%\n",
       "\\begin{Usage}\n",
       "\\begin{verbatim}\n",
       "seq(...)\n",
       "\n",
       "## Default S3 method:\n",
       "seq(from = 1, to = 1, by = ((to - from)/(length.out - 1)),\n",
       "    length.out = NULL, along.with = NULL, ...)\n",
       "\n",
       "seq.int(from, to, by, length.out, along.with, ...)\n",
       "\n",
       "seq_along(along.with)\n",
       "seq_len(length.out)\n",
       "\\end{verbatim}\n",
       "\\end{Usage}\n",
       "%\n",
       "\\begin{Arguments}\n",
       "\\begin{ldescription}\n",
       "\\item[\\code{...}] arguments passed to or from methods.\n",
       "\\item[\\code{from, to}] the starting and (maximal) end values of the\n",
       "sequence.  Of length \\code{1} unless just \\code{from} is supplied as\n",
       "an unnamed argument.\n",
       "\\item[\\code{by}] number: increment of the sequence.\n",
       "\\item[\\code{length.out}] desired length of the sequence.  A\n",
       "non-negative number, which for \\code{seq} and \\code{seq.int} will be\n",
       "rounded up if fractional.\n",
       "\\item[\\code{along.with}] take the length from the length of this argument.\n",
       "\\end{ldescription}\n",
       "\\end{Arguments}\n",
       "%\n",
       "\\begin{Details}\\relax\n",
       "Numerical inputs should all be \\LinkA{finite}{finite} (that is, not infinite,\n",
       "\\code{\\LinkA{NaN}{NaN}} or \\code{NA}).\n",
       "\n",
       "The interpretation of the unnamed arguments of \\code{seq} and\n",
       "\\code{seq.int} is \\emph{not} standard, and it is recommended always to\n",
       "name the arguments when programming.\n",
       "\n",
       "\\code{seq} is  generic, and only the default method is described here.\n",
       "Note that it dispatches on the class of the \\strong{first} argument\n",
       "irrespective of argument names.  This can have unintended consequences\n",
       "if it is called with just one argument intending this to be taken as\n",
       "\\code{along.with}: it is much better to use \\code{seq\\_along} in that\n",
       "case.\n",
       "\n",
       "\\code{seq.int} is an \\LinkA{internal generic}{internal generic} which dispatches on\n",
       "methods for \\code{\"seq\"} based on the class of the first supplied\n",
       "argument (before argument matching).\n",
       "\n",
       "Typical usages are\n",
       "\\begin{alltt}seq(from, to)\n",
       "seq(from, to, by= )\n",
       "seq(from, to, length.out= )\n",
       "seq(along.with= )\n",
       "seq(from)\n",
       "seq(length.out= )\n",
       "\\end{alltt}\n",
       "\n",
       "The first form generates the sequence \\code{from, from+/-1, ..., to}\n",
       "(identical to \\code{from:to}).\n",
       "\n",
       "The second form generates \\code{from, from+by}, \\ldots, up to the\n",
       "sequence value less than or equal to \\code{to}.  Specifying \\code{to -\n",
       "  from} and \\code{by} of opposite signs is an error.  Note that the\n",
       "computed final value can go just beyond \\code{to} to allow for\n",
       "rounding error, but is truncated to \\code{to}.  (`Just beyond'\n",
       "is by up to \\eqn{10^{-10}}{} times \\code{abs(from - to)}.)\n",
       "\n",
       "The third generates a sequence of \\code{length.out} equally spaced\n",
       "values from \\code{from} to \\code{to}.  (\\code{length.out} is usually\n",
       "abbreviated to \\code{length} or \\code{len}, and \\code{seq\\_len} is much\n",
       "faster.)\n",
       "\n",
       "The fourth form generates the integer sequence \\code{1, 2, ...,\n",
       "    length(along.with)}.  (\\code{along.with} is usually abbreviated to\n",
       "\\code{along}, and \\code{seq\\_along} is much faster.)\n",
       "\n",
       "The fifth form generates the sequence \\code{1, 2, ..., length(from)}\n",
       "(as if argument \\code{along.with} had been specified), \\emph{unless}\n",
       "the argument is numeric of length 1 when it is interpreted as\n",
       "\\code{1:from} (even for \\code{seq(0)} for compatibility with S).\n",
       "Using either \\code{seq\\_along} or \\code{seq\\_len} is much preferred\n",
       "(unless strict S compatibility is essential).\n",
       "\n",
       "The final form generates the integer sequence \\code{1, 2, ...,\n",
       "  length.out} unless \\code{length.out = 0}, when it generates\n",
       "\\code{integer(0)}.\n",
       "\n",
       "Very small sequences (with \\code{from - to} of the order of \\eqn{10^{-14}}{}\n",
       "times the larger of the ends) will return \\code{from}.\n",
       "\n",
       "For \\code{seq} (only), up to two of \\code{from}, \\code{to} and\n",
       "\\code{by} can be supplied as complex values provided \\code{length.out}\n",
       "or \\code{along.with} is specified.  More generally, the default method\n",
       "of \\code{seq} will handle classed objects with methods for\n",
       "the \\code{Math}, \\code{Ops} and \\code{Summary} group generics.\n",
       "\n",
       "\\code{seq.int}, \\code{seq\\_along} and \\code{seq\\_len} are\n",
       "\\LinkA{primitive}{primitive}.\n",
       "\\end{Details}\n",
       "%\n",
       "\\begin{Value}\n",
       "\\code{seq.int} and the default method of \\code{seq} for numeric\n",
       "arguments return a vector of type \\code{\"integer\"} or \\code{\"double\"}:\n",
       "programmers should not rely on which.\n",
       "\n",
       "\\code{seq\\_along} and \\code{seq\\_len} return an integer vector, unless\n",
       "it is a \\emph{long vector} when it will be double.\n",
       "\\end{Value}\n",
       "%\n",
       "\\begin{References}\\relax\n",
       "Becker, R. A., Chambers, J. M. and Wilks, A. R. (1988)\n",
       "\\emph{The New S Language}.\n",
       "Wadsworth \\& Brooks/Cole.\n",
       "\\end{References}\n",
       "%\n",
       "\\begin{SeeAlso}\\relax\n",
       "The methods \\code{\\LinkA{seq.Date}{seq.Date}} and \\code{\\LinkA{seq.POSIXt}{seq.POSIXt}}.\n",
       "\n",
       "\\code{\\LinkA{:}{:}},\n",
       "\\code{\\LinkA{rep}{rep}},\n",
       "\\code{\\LinkA{sequence}{sequence}},\n",
       "\\code{\\LinkA{row}{row}},\n",
       "\\code{\\LinkA{col}{col}}.\n",
       "\\end{SeeAlso}\n",
       "%\n",
       "\\begin{Examples}\n",
       "\\begin{ExampleCode}\n",
       "seq(0, 1, length.out = 11)\n",
       "seq(stats::rnorm(20)) # effectively 'along'\n",
       "seq(1, 9, by = 2)     # matches 'end'\n",
       "seq(1, 9, by = pi)    # stays below 'end'\n",
       "seq(1, 6, by = 3)\n",
       "seq(1.575, 5.125, by = 0.05)\n",
       "seq(17) # same as 1:17, or even better seq_len(17)\n",
       "\\end{ExampleCode}\n",
       "\\end{Examples}"
      ],
      "text/plain": [
       "seq                    package:base                    R Documentation\n",
       "\n",
       "_\bS_\be_\bq_\bu_\be_\bn_\bc_\be _\bG_\be_\bn_\be_\br_\ba_\bt_\bi_\bo_\bn\n",
       "\n",
       "_\bD_\be_\bs_\bc_\br_\bi_\bp_\bt_\bi_\bo_\bn:\n",
       "\n",
       "     Generate regular sequences.  'seq' is a standard generic with a\n",
       "     default method.  'seq.int' is a primitive which can be much faster\n",
       "     but has a few restrictions.  'seq_along' and 'seq_len' are very\n",
       "     fast primitives for two common cases.\n",
       "\n",
       "_\bU_\bs_\ba_\bg_\be:\n",
       "\n",
       "     seq(...)\n",
       "     \n",
       "     ## Default S3 method:\n",
       "     seq(from = 1, to = 1, by = ((to - from)/(length.out - 1)),\n",
       "         length.out = NULL, along.with = NULL, ...)\n",
       "     \n",
       "     seq.int(from, to, by, length.out, along.with, ...)\n",
       "     \n",
       "     seq_along(along.with)\n",
       "     seq_len(length.out)\n",
       "     \n",
       "_\bA_\br_\bg_\bu_\bm_\be_\bn_\bt_\bs:\n",
       "\n",
       "     ...: arguments passed to or from methods.\n",
       "\n",
       "from, to: the starting and (maximal) end values of the sequence.  Of\n",
       "          length '1' unless just 'from' is supplied as an unnamed\n",
       "          argument.\n",
       "\n",
       "      by: number: increment of the sequence.\n",
       "\n",
       "length.out: desired length of the sequence.  A non-negative number,\n",
       "          which for 'seq' and 'seq.int' will be rounded up if\n",
       "          fractional.\n",
       "\n",
       "along.with: take the length from the length of this argument.\n",
       "\n",
       "_\bD_\be_\bt_\ba_\bi_\bl_\bs:\n",
       "\n",
       "     Numerical inputs should all be finite (that is, not infinite,\n",
       "     'NaN' or 'NA').\n",
       "\n",
       "     The interpretation of the unnamed arguments of 'seq' and 'seq.int'\n",
       "     is _not_ standard, and it is recommended always to name the\n",
       "     arguments when programming.\n",
       "\n",
       "     'seq' is generic, and only the default method is described here.\n",
       "     Note that it dispatches on the class of the *first* argument\n",
       "     irrespective of argument names.  This can have unintended\n",
       "     consequences if it is called with just one argument intending this\n",
       "     to be taken as 'along.with': it is much better to use 'seq_along'\n",
       "     in that case.\n",
       "\n",
       "     'seq.int' is an internal generic which dispatches on methods for\n",
       "     '\"seq\"' based on the class of the first supplied argument (before\n",
       "     argument matching).\n",
       "\n",
       "     Typical usages are\n",
       "     \n",
       "     seq(from, to)\n",
       "     seq(from, to, by= )\n",
       "     seq(from, to, length.out= )\n",
       "     seq(along.with= )\n",
       "     seq(from)\n",
       "     seq(length.out= )\n",
       "\n",
       "     The first form generates the sequence 'from, from+/-1, ..., to'\n",
       "     (identical to 'from:to').\n",
       "\n",
       "     The second form generates 'from, from+by', ..., up to the sequence\n",
       "     value less than or equal to 'to'.  Specifying 'to - from' and 'by'\n",
       "     of opposite signs is an error.  Note that the computed final value\n",
       "     can go just beyond 'to' to allow for rounding error, but is\n",
       "     truncated to 'to'.  ('Just beyond' is by up to 1e-10 times\n",
       "     'abs(from - to)'.)\n",
       "\n",
       "     The third generates a sequence of 'length.out' equally spaced\n",
       "     values from 'from' to 'to'.  ('length.out' is usually abbreviated\n",
       "     to 'length' or 'len', and 'seq_len' is much faster.)\n",
       "\n",
       "     The fourth form generates the integer sequence '1, 2, ...,\n",
       "     length(along.with)'.  ('along.with' is usually abbreviated to\n",
       "     'along', and 'seq_along' is much faster.)\n",
       "\n",
       "     The fifth form generates the sequence '1, 2, ..., length(from)'\n",
       "     (as if argument 'along.with' had been specified), _unless_ the\n",
       "     argument is numeric of length 1 when it is interpreted as '1:from'\n",
       "     (even for 'seq(0)' for compatibility with S).  Using either\n",
       "     'seq_along' or 'seq_len' is much preferred (unless strict S\n",
       "     compatibility is essential).\n",
       "\n",
       "     The final form generates the integer sequence '1, 2, ...,\n",
       "     length.out' unless 'length.out = 0', when it generates\n",
       "     'integer(0)'.\n",
       "\n",
       "     Very small sequences (with 'from - to' of the order of 10^{-14}\n",
       "     times the larger of the ends) will return 'from'.\n",
       "\n",
       "     For 'seq' (only), up to two of 'from', 'to' and 'by' can be\n",
       "     supplied as complex values provided 'length.out' or 'along.with'\n",
       "     is specified.  More generally, the default method of 'seq' will\n",
       "     handle classed objects with methods for the 'Math', 'Ops' and\n",
       "     'Summary' group generics.\n",
       "\n",
       "     'seq.int', 'seq_along' and 'seq_len' are primitive.\n",
       "\n",
       "_\bV_\ba_\bl_\bu_\be:\n",
       "\n",
       "     'seq.int' and the default method of 'seq' for numeric arguments\n",
       "     return a vector of type '\"integer\"' or '\"double\"': programmers\n",
       "     should not rely on which.\n",
       "\n",
       "     'seq_along' and 'seq_len' return an integer vector, unless it is a\n",
       "     _long vector_ when it will be double.\n",
       "\n",
       "_\bR_\be_\bf_\be_\br_\be_\bn_\bc_\be_\bs:\n",
       "\n",
       "     Becker, R. A., Chambers, J. M. and Wilks, A. R. (1988) _The New S\n",
       "     Language_.  Wadsworth & Brooks/Cole.\n",
       "\n",
       "_\bS_\be_\be _\bA_\bl_\bs_\bo:\n",
       "\n",
       "     The methods 'seq.Date' and 'seq.POSIXt'.\n",
       "\n",
       "     ':', 'rep', 'sequence', 'row', 'col'.\n",
       "\n",
       "_\bE_\bx_\ba_\bm_\bp_\bl_\be_\bs:\n",
       "\n",
       "     seq(0, 1, length.out = 11)\n",
       "     seq(stats::rnorm(20)) # effectively 'along'\n",
       "     seq(1, 9, by = 2)     # matches 'end'\n",
       "     seq(1, 9, by = pi)    # stays below 'end'\n",
       "     seq(1, 6, by = 3)\n",
       "     seq(1.575, 5.125, by = 0.05)\n",
       "     seq(17) # same as 1:17, or even better seq_len(17)\n",
       "     "
      ]
     },
     "metadata": {},
     "output_type": "display_data"
    }
   ],
   "source": []
  },
  {
   "cell_type": "code",
   "execution_count": 57,
   "metadata": {},
   "outputs": [
    {
     "data": {
      "text/html": [
       "<style>\n",
       ".list-inline {list-style: none; margin:0; padding: 0}\n",
       ".list-inline>li {display: inline-block}\n",
       ".list-inline>li:not(:last-child)::after {content: \"\\00b7\"; padding: 0 .5ex}\n",
       "</style>\n",
       "<ol class=list-inline><li>1.56616803429363</li><li>1.46190445331201</li><li>1.43172201078352</li><li>1.36255521393865</li><li>1.2711372911068</li><li>1.14142880317349</li><li>1.08865463116318</li><li>1.03906512093128</li><li>0.979221318888147</li><li>1.00187811000087</li><li>0.87188929197192</li><li>0.731719458643131</li><li>0.640724521967253</li><li>0.613892553084047</li><li>0.542188952461751</li><li>0.46388990963717</li><li>0.435883518223778</li><li>0.284485483629065</li><li>0.311853551544963</li><li>0.10366696216886</li><li>0.119737247079274</li><li>0.104040208996209</li><li>0.0126908360550847</li><li>0.0122139364406334</li><li>-0.147156317723567</li><li>-0.150253805306899</li><li>-0.146256609686782</li><li>-0.45382053178996</li><li>-0.638246825768704</li><li>-0.482959582750984</li><li>-0.602726336080348</li><li>-0.738136813476149</li><li>-0.791917843620298</li><li>-0.921791526360838</li><li>-0.684895306643952</li><li>-0.658766605931742</li><li>-0.745881013137825</li><li>-1.18159246371181</li><li>-0.798670246259479</li><li>-1.28693535274738</li><li>-0.778084473120757</li><li>-1.13817491159054</li><li>-1.6035552664397</li><li>-1.92010237757453</li><li>-2.32684110973227</li><li>-2.3728333958005</li><li>-3.51019644635238</li><li>-1.24018739301486</li><li>-1.40592818243976</li><li>-2.05374223231734</li><li>-1.78741091051731</li><li>-2.36881626751394</li><li>-1.00369105927413</li><li>-3.36449294514285</li><li>-2.29351698464287</li><li>-2.08570426358949</li><li>-1.86870811872789</li><li>-2.673898873597</li><li>NaN</li><li>NaN</li></ol>\n"
      ],
      "text/latex": [
       "\\begin{enumerate*}\n",
       "\\item 1.56616803429363\n",
       "\\item 1.46190445331201\n",
       "\\item 1.43172201078352\n",
       "\\item 1.36255521393865\n",
       "\\item 1.2711372911068\n",
       "\\item 1.14142880317349\n",
       "\\item 1.08865463116318\n",
       "\\item 1.03906512093128\n",
       "\\item 0.979221318888147\n",
       "\\item 1.00187811000087\n",
       "\\item 0.87188929197192\n",
       "\\item 0.731719458643131\n",
       "\\item 0.640724521967253\n",
       "\\item 0.613892553084047\n",
       "\\item 0.542188952461751\n",
       "\\item 0.46388990963717\n",
       "\\item 0.435883518223778\n",
       "\\item 0.284485483629065\n",
       "\\item 0.311853551544963\n",
       "\\item 0.10366696216886\n",
       "\\item 0.119737247079274\n",
       "\\item 0.104040208996209\n",
       "\\item 0.0126908360550847\n",
       "\\item 0.0122139364406334\n",
       "\\item -0.147156317723567\n",
       "\\item -0.150253805306899\n",
       "\\item -0.146256609686782\n",
       "\\item -0.45382053178996\n",
       "\\item -0.638246825768704\n",
       "\\item -0.482959582750984\n",
       "\\item -0.602726336080348\n",
       "\\item -0.738136813476149\n",
       "\\item -0.791917843620298\n",
       "\\item -0.921791526360838\n",
       "\\item -0.684895306643952\n",
       "\\item -0.658766605931742\n",
       "\\item -0.745881013137825\n",
       "\\item -1.18159246371181\n",
       "\\item -0.798670246259479\n",
       "\\item -1.28693535274738\n",
       "\\item -0.778084473120757\n",
       "\\item -1.13817491159054\n",
       "\\item -1.6035552664397\n",
       "\\item -1.92010237757453\n",
       "\\item -2.32684110973227\n",
       "\\item -2.3728333958005\n",
       "\\item -3.51019644635238\n",
       "\\item -1.24018739301486\n",
       "\\item -1.40592818243976\n",
       "\\item -2.05374223231734\n",
       "\\item -1.78741091051731\n",
       "\\item -2.36881626751394\n",
       "\\item -1.00369105927413\n",
       "\\item -3.36449294514285\n",
       "\\item -2.29351698464287\n",
       "\\item -2.08570426358949\n",
       "\\item -1.86870811872789\n",
       "\\item -2.673898873597\n",
       "\\item NaN\n",
       "\\item NaN\n",
       "\\end{enumerate*}\n"
      ],
      "text/markdown": [
       "1. 1.56616803429363\n",
       "2. 1.46190445331201\n",
       "3. 1.43172201078352\n",
       "4. 1.36255521393865\n",
       "5. 1.2711372911068\n",
       "6. 1.14142880317349\n",
       "7. 1.08865463116318\n",
       "8. 1.03906512093128\n",
       "9. 0.979221318888147\n",
       "10. 1.00187811000087\n",
       "11. 0.87188929197192\n",
       "12. 0.731719458643131\n",
       "13. 0.640724521967253\n",
       "14. 0.613892553084047\n",
       "15. 0.542188952461751\n",
       "16. 0.46388990963717\n",
       "17. 0.435883518223778\n",
       "18. 0.284485483629065\n",
       "19. 0.311853551544963\n",
       "20. 0.10366696216886\n",
       "21. 0.119737247079274\n",
       "22. 0.104040208996209\n",
       "23. 0.0126908360550847\n",
       "24. 0.0122139364406334\n",
       "25. -0.147156317723567\n",
       "26. -0.150253805306899\n",
       "27. -0.146256609686782\n",
       "28. -0.45382053178996\n",
       "29. -0.638246825768704\n",
       "30. -0.482959582750984\n",
       "31. -0.602726336080348\n",
       "32. -0.738136813476149\n",
       "33. -0.791917843620298\n",
       "34. -0.921791526360838\n",
       "35. -0.684895306643952\n",
       "36. -0.658766605931742\n",
       "37. -0.745881013137825\n",
       "38. -1.18159246371181\n",
       "39. -0.798670246259479\n",
       "40. -1.28693535274738\n",
       "41. -0.778084473120757\n",
       "42. -1.13817491159054\n",
       "43. -1.6035552664397\n",
       "44. -1.92010237757453\n",
       "45. -2.32684110973227\n",
       "46. -2.3728333958005\n",
       "47. -3.51019644635238\n",
       "48. -1.24018739301486\n",
       "49. -1.40592818243976\n",
       "50. -2.05374223231734\n",
       "51. -1.78741091051731\n",
       "52. -2.36881626751394\n",
       "53. -1.00369105927413\n",
       "54. -3.36449294514285\n",
       "55. -2.29351698464287\n",
       "56. -2.08570426358949\n",
       "57. -1.86870811872789\n",
       "58. -2.673898873597\n",
       "59. NaN\n",
       "60. NaN\n",
       "\n",
       "\n"
      ],
      "text/plain": [
       " [1]  1.56616803  1.46190445  1.43172201  1.36255521  1.27113729  1.14142880\n",
       " [7]  1.08865463  1.03906512  0.97922132  1.00187811  0.87188929  0.73171946\n",
       "[13]  0.64072452  0.61389255  0.54218895  0.46388991  0.43588352  0.28448548\n",
       "[19]  0.31185355  0.10366696  0.11973725  0.10404021  0.01269084  0.01221394\n",
       "[25] -0.14715632 -0.15025381 -0.14625661 -0.45382053 -0.63824683 -0.48295958\n",
       "[31] -0.60272634 -0.73813681 -0.79191784 -0.92179153 -0.68489531 -0.65876661\n",
       "[37] -0.74588101 -1.18159246 -0.79867025 -1.28693535 -0.77808447 -1.13817491\n",
       "[43] -1.60355527 -1.92010238 -2.32684111 -2.37283340 -3.51019645 -1.24018739\n",
       "[49] -1.40592818 -2.05374223 -1.78741091 -2.36881627 -1.00369106 -3.36449295\n",
       "[55] -2.29351698 -2.08570426 -1.86870812 -2.67389887         NaN         NaN"
      ]
     },
     "metadata": {},
     "output_type": "display_data"
    }
   ],
   "source": []
  }
 ],
 "metadata": {
  "kernelspec": {
   "display_name": "R",
   "language": "R",
   "name": "ir"
  },
  "language_info": {
   "codemirror_mode": "r",
   "file_extension": ".r",
   "mimetype": "text/x-r-source",
   "name": "R",
   "pygments_lexer": "r",
   "version": "4.0.4"
  }
 },
 "nbformat": 4,
 "nbformat_minor": 4
}
